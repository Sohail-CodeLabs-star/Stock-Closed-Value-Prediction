{
  "nbformat": 4,
  "nbformat_minor": 0,
  "metadata": {
    "colab": {
      "name": "Stock Closed Price Prediction - 99+ Accuracy.ipynb",
      "provenance": [],
      "collapsed_sections": []
    },
    "kernelspec": {
      "name": "python3",
      "display_name": "Python 3"
    }
  },
  "cells": [
    {
      "cell_type": "code",
      "metadata": {
        "colab": {
          "base_uri": "https://localhost:8080/"
        },
        "id": "81MrtTWBEoup",
        "outputId": "340ae31e-a107-46fb-83d2-d79e627b0b4f"
      },
      "source": [
        "pip install catboost"
      ],
      "execution_count": 1,
      "outputs": [
        {
          "output_type": "stream",
          "text": [
            "Requirement already satisfied: catboost in /usr/local/lib/python3.7/dist-packages (0.24.4)\n",
            "Requirement already satisfied: scipy in /usr/local/lib/python3.7/dist-packages (from catboost) (1.4.1)\n",
            "Requirement already satisfied: matplotlib in /usr/local/lib/python3.7/dist-packages (from catboost) (3.2.2)\n",
            "Requirement already satisfied: numpy>=1.16.0 in /usr/local/lib/python3.7/dist-packages (from catboost) (1.19.5)\n",
            "Requirement already satisfied: pandas>=0.24.0 in /usr/local/lib/python3.7/dist-packages (from catboost) (1.1.5)\n",
            "Requirement already satisfied: six in /usr/local/lib/python3.7/dist-packages (from catboost) (1.15.0)\n",
            "Requirement already satisfied: graphviz in /usr/local/lib/python3.7/dist-packages (from catboost) (0.10.1)\n",
            "Requirement already satisfied: plotly in /usr/local/lib/python3.7/dist-packages (from catboost) (4.4.1)\n",
            "Requirement already satisfied: kiwisolver>=1.0.1 in /usr/local/lib/python3.7/dist-packages (from matplotlib->catboost) (1.3.1)\n",
            "Requirement already satisfied: cycler>=0.10 in /usr/local/lib/python3.7/dist-packages (from matplotlib->catboost) (0.10.0)\n",
            "Requirement already satisfied: pyparsing!=2.0.4,!=2.1.2,!=2.1.6,>=2.0.1 in /usr/local/lib/python3.7/dist-packages (from matplotlib->catboost) (2.4.7)\n",
            "Requirement already satisfied: python-dateutil>=2.1 in /usr/local/lib/python3.7/dist-packages (from matplotlib->catboost) (2.8.1)\n",
            "Requirement already satisfied: pytz>=2017.2 in /usr/local/lib/python3.7/dist-packages (from pandas>=0.24.0->catboost) (2018.9)\n",
            "Requirement already satisfied: retrying>=1.3.3 in /usr/local/lib/python3.7/dist-packages (from plotly->catboost) (1.3.3)\n"
          ],
          "name": "stdout"
        }
      ]
    },
    {
      "cell_type": "code",
      "metadata": {
        "id": "9V6YZnrh4vuL"
      },
      "source": [
        "import pandas as pd\r\n",
        "import numpy as np\r\n",
        "import warnings\r\n",
        "\r\n",
        "warnings.filterwarnings('ignore')"
      ],
      "execution_count": 2,
      "outputs": []
    },
    {
      "cell_type": "markdown",
      "metadata": {
        "id": "bWUiPJyK5QkN"
      },
      "source": [
        "**LOADING THE DATASETS**"
      ]
    },
    {
      "cell_type": "code",
      "metadata": {
        "colab": {
          "base_uri": "https://localhost:8080/",
          "height": 419
        },
        "id": "-8oCiseB5O_y",
        "outputId": "4a70bbbb-8a87-4605-91e6-932a4cc586d9"
      },
      "source": [
        "data = pd.read_csv('/content/CAC40_stocks_2010_2021.csv')\r\n",
        "data"
      ],
      "execution_count": 3,
      "outputs": [
        {
          "output_type": "execute_result",
          "data": {
            "text/html": [
              "<div>\n",
              "<style scoped>\n",
              "    .dataframe tbody tr th:only-of-type {\n",
              "        vertical-align: middle;\n",
              "    }\n",
              "\n",
              "    .dataframe tbody tr th {\n",
              "        vertical-align: top;\n",
              "    }\n",
              "\n",
              "    .dataframe thead th {\n",
              "        text-align: right;\n",
              "    }\n",
              "</style>\n",
              "<table border=\"1\" class=\"dataframe\">\n",
              "  <thead>\n",
              "    <tr style=\"text-align: right;\">\n",
              "      <th></th>\n",
              "      <th>CompanyName</th>\n",
              "      <th>StockName</th>\n",
              "      <th>High</th>\n",
              "      <th>Low</th>\n",
              "      <th>Open</th>\n",
              "      <th>Close</th>\n",
              "      <th>Volume</th>\n",
              "      <th>Date</th>\n",
              "    </tr>\n",
              "  </thead>\n",
              "  <tbody>\n",
              "    <tr>\n",
              "      <th>0</th>\n",
              "      <td>TechnipFMC</td>\n",
              "      <td>FTI</td>\n",
              "      <td>29.855000</td>\n",
              "      <td>29.075001</td>\n",
              "      <td>29.075001</td>\n",
              "      <td>29.615000</td>\n",
              "      <td>1908400.0</td>\n",
              "      <td>2010-01-04</td>\n",
              "    </tr>\n",
              "    <tr>\n",
              "      <th>1</th>\n",
              "      <td>TechnipFMC</td>\n",
              "      <td>FTI</td>\n",
              "      <td>30.270000</td>\n",
              "      <td>29.555000</td>\n",
              "      <td>29.610001</td>\n",
              "      <td>30.125000</td>\n",
              "      <td>2206600.0</td>\n",
              "      <td>2010-01-05</td>\n",
              "    </tr>\n",
              "    <tr>\n",
              "      <th>2</th>\n",
              "      <td>TechnipFMC</td>\n",
              "      <td>FTI</td>\n",
              "      <td>30.305000</td>\n",
              "      <td>29.434999</td>\n",
              "      <td>30.040001</td>\n",
              "      <td>30.264999</td>\n",
              "      <td>2724200.0</td>\n",
              "      <td>2010-01-06</td>\n",
              "    </tr>\n",
              "    <tr>\n",
              "      <th>3</th>\n",
              "      <td>TechnipFMC</td>\n",
              "      <td>FTI</td>\n",
              "      <td>30.219999</td>\n",
              "      <td>29.715000</td>\n",
              "      <td>30.155001</td>\n",
              "      <td>29.915001</td>\n",
              "      <td>2581000.0</td>\n",
              "      <td>2010-01-07</td>\n",
              "    </tr>\n",
              "    <tr>\n",
              "      <th>4</th>\n",
              "      <td>TechnipFMC</td>\n",
              "      <td>FTI</td>\n",
              "      <td>30.500000</td>\n",
              "      <td>29.625000</td>\n",
              "      <td>29.830000</td>\n",
              "      <td>30.450001</td>\n",
              "      <td>3280400.0</td>\n",
              "      <td>2010-01-08</td>\n",
              "    </tr>\n",
              "    <tr>\n",
              "      <th>...</th>\n",
              "      <td>...</td>\n",
              "      <td>...</td>\n",
              "      <td>...</td>\n",
              "      <td>...</td>\n",
              "      <td>...</td>\n",
              "      <td>...</td>\n",
              "      <td>...</td>\n",
              "      <td>...</td>\n",
              "    </tr>\n",
              "    <tr>\n",
              "      <th>81730</th>\n",
              "      <td>LVMH</td>\n",
              "      <td>MC</td>\n",
              "      <td>53.889999</td>\n",
              "      <td>51.279999</td>\n",
              "      <td>53.689999</td>\n",
              "      <td>51.450001</td>\n",
              "      <td>404700.0</td>\n",
              "      <td>2021-01-26</td>\n",
              "    </tr>\n",
              "    <tr>\n",
              "      <th>81731</th>\n",
              "      <td>LVMH</td>\n",
              "      <td>MC</td>\n",
              "      <td>50.779999</td>\n",
              "      <td>48.759998</td>\n",
              "      <td>50.419998</td>\n",
              "      <td>49.369999</td>\n",
              "      <td>688200.0</td>\n",
              "      <td>2021-01-27</td>\n",
              "    </tr>\n",
              "    <tr>\n",
              "      <th>81732</th>\n",
              "      <td>LVMH</td>\n",
              "      <td>MC</td>\n",
              "      <td>51.820000</td>\n",
              "      <td>49.639999</td>\n",
              "      <td>49.930000</td>\n",
              "      <td>51.189999</td>\n",
              "      <td>480400.0</td>\n",
              "      <td>2021-01-28</td>\n",
              "    </tr>\n",
              "    <tr>\n",
              "      <th>81733</th>\n",
              "      <td>LVMH</td>\n",
              "      <td>MC</td>\n",
              "      <td>51.130001</td>\n",
              "      <td>48.990002</td>\n",
              "      <td>51.099998</td>\n",
              "      <td>49.709999</td>\n",
              "      <td>341000.0</td>\n",
              "      <td>2021-01-29</td>\n",
              "    </tr>\n",
              "    <tr>\n",
              "      <th>81734</th>\n",
              "      <td>LVMH</td>\n",
              "      <td>MC</td>\n",
              "      <td>51.290001</td>\n",
              "      <td>49.630001</td>\n",
              "      <td>49.790001</td>\n",
              "      <td>51.250000</td>\n",
              "      <td>348200.0</td>\n",
              "      <td>2021-02-01</td>\n",
              "    </tr>\n",
              "  </tbody>\n",
              "</table>\n",
              "<p>81735 rows × 8 columns</p>\n",
              "</div>"
            ],
            "text/plain": [
              "      CompanyName StockName       High  ...      Close     Volume        Date\n",
              "0      TechnipFMC       FTI  29.855000  ...  29.615000  1908400.0  2010-01-04\n",
              "1      TechnipFMC       FTI  30.270000  ...  30.125000  2206600.0  2010-01-05\n",
              "2      TechnipFMC       FTI  30.305000  ...  30.264999  2724200.0  2010-01-06\n",
              "3      TechnipFMC       FTI  30.219999  ...  29.915001  2581000.0  2010-01-07\n",
              "4      TechnipFMC       FTI  30.500000  ...  30.450001  3280400.0  2010-01-08\n",
              "...           ...       ...        ...  ...        ...        ...         ...\n",
              "81730        LVMH        MC  53.889999  ...  51.450001   404700.0  2021-01-26\n",
              "81731        LVMH        MC  50.779999  ...  49.369999   688200.0  2021-01-27\n",
              "81732        LVMH        MC  51.820000  ...  51.189999   480400.0  2021-01-28\n",
              "81733        LVMH        MC  51.130001  ...  49.709999   341000.0  2021-01-29\n",
              "81734        LVMH        MC  51.290001  ...  51.250000   348200.0  2021-02-01\n",
              "\n",
              "[81735 rows x 8 columns]"
            ]
          },
          "metadata": {
            "tags": []
          },
          "execution_count": 3
        }
      ]
    },
    {
      "cell_type": "markdown",
      "metadata": {
        "id": "hw6IbdC66wae"
      },
      "source": [
        "**SAVING A COPY OF THE DATASET**"
      ]
    },
    {
      "cell_type": "code",
      "metadata": {
        "id": "cLDAnFQT5WGY"
      },
      "source": [
        "data_copy = data.copy()"
      ],
      "execution_count": 4,
      "outputs": []
    },
    {
      "cell_type": "markdown",
      "metadata": {
        "id": "1m0abPH47A4-"
      },
      "source": [
        "**EDA**"
      ]
    },
    {
      "cell_type": "code",
      "metadata": {
        "id": "ESgIYoMJ7F6e"
      },
      "source": [
        "import matplotlib.pyplot as plt\r\n",
        "import seaborn as sns"
      ],
      "execution_count": 5,
      "outputs": []
    },
    {
      "cell_type": "markdown",
      "metadata": {
        "id": "MTUmDedc7Ewe"
      },
      "source": [
        "first lets split the Date column"
      ]
    },
    {
      "cell_type": "code",
      "metadata": {
        "id": "lQ3bFhtN601n"
      },
      "source": [
        "data['Date'] = pd.to_datetime(data['Date'])\r\n",
        "\r\n",
        "data['Year'] = data['Date'].dt.year\r\n",
        "data['Month'] = data['Date'].dt.month\r\n",
        "data['Day'] = data['Date'].dt.day"
      ],
      "execution_count": 6,
      "outputs": []
    },
    {
      "cell_type": "code",
      "metadata": {
        "colab": {
          "base_uri": "https://localhost:8080/",
          "height": 419
        },
        "id": "fGVSrKtm7cRG",
        "outputId": "f956edbb-042a-4815-9863-8b5967b7c294"
      },
      "source": [
        "data"
      ],
      "execution_count": 7,
      "outputs": [
        {
          "output_type": "execute_result",
          "data": {
            "text/html": [
              "<div>\n",
              "<style scoped>\n",
              "    .dataframe tbody tr th:only-of-type {\n",
              "        vertical-align: middle;\n",
              "    }\n",
              "\n",
              "    .dataframe tbody tr th {\n",
              "        vertical-align: top;\n",
              "    }\n",
              "\n",
              "    .dataframe thead th {\n",
              "        text-align: right;\n",
              "    }\n",
              "</style>\n",
              "<table border=\"1\" class=\"dataframe\">\n",
              "  <thead>\n",
              "    <tr style=\"text-align: right;\">\n",
              "      <th></th>\n",
              "      <th>CompanyName</th>\n",
              "      <th>StockName</th>\n",
              "      <th>High</th>\n",
              "      <th>Low</th>\n",
              "      <th>Open</th>\n",
              "      <th>Close</th>\n",
              "      <th>Volume</th>\n",
              "      <th>Date</th>\n",
              "      <th>Year</th>\n",
              "      <th>Month</th>\n",
              "      <th>Day</th>\n",
              "    </tr>\n",
              "  </thead>\n",
              "  <tbody>\n",
              "    <tr>\n",
              "      <th>0</th>\n",
              "      <td>TechnipFMC</td>\n",
              "      <td>FTI</td>\n",
              "      <td>29.855000</td>\n",
              "      <td>29.075001</td>\n",
              "      <td>29.075001</td>\n",
              "      <td>29.615000</td>\n",
              "      <td>1908400.0</td>\n",
              "      <td>2010-01-04</td>\n",
              "      <td>2010</td>\n",
              "      <td>1</td>\n",
              "      <td>4</td>\n",
              "    </tr>\n",
              "    <tr>\n",
              "      <th>1</th>\n",
              "      <td>TechnipFMC</td>\n",
              "      <td>FTI</td>\n",
              "      <td>30.270000</td>\n",
              "      <td>29.555000</td>\n",
              "      <td>29.610001</td>\n",
              "      <td>30.125000</td>\n",
              "      <td>2206600.0</td>\n",
              "      <td>2010-01-05</td>\n",
              "      <td>2010</td>\n",
              "      <td>1</td>\n",
              "      <td>5</td>\n",
              "    </tr>\n",
              "    <tr>\n",
              "      <th>2</th>\n",
              "      <td>TechnipFMC</td>\n",
              "      <td>FTI</td>\n",
              "      <td>30.305000</td>\n",
              "      <td>29.434999</td>\n",
              "      <td>30.040001</td>\n",
              "      <td>30.264999</td>\n",
              "      <td>2724200.0</td>\n",
              "      <td>2010-01-06</td>\n",
              "      <td>2010</td>\n",
              "      <td>1</td>\n",
              "      <td>6</td>\n",
              "    </tr>\n",
              "    <tr>\n",
              "      <th>3</th>\n",
              "      <td>TechnipFMC</td>\n",
              "      <td>FTI</td>\n",
              "      <td>30.219999</td>\n",
              "      <td>29.715000</td>\n",
              "      <td>30.155001</td>\n",
              "      <td>29.915001</td>\n",
              "      <td>2581000.0</td>\n",
              "      <td>2010-01-07</td>\n",
              "      <td>2010</td>\n",
              "      <td>1</td>\n",
              "      <td>7</td>\n",
              "    </tr>\n",
              "    <tr>\n",
              "      <th>4</th>\n",
              "      <td>TechnipFMC</td>\n",
              "      <td>FTI</td>\n",
              "      <td>30.500000</td>\n",
              "      <td>29.625000</td>\n",
              "      <td>29.830000</td>\n",
              "      <td>30.450001</td>\n",
              "      <td>3280400.0</td>\n",
              "      <td>2010-01-08</td>\n",
              "      <td>2010</td>\n",
              "      <td>1</td>\n",
              "      <td>8</td>\n",
              "    </tr>\n",
              "    <tr>\n",
              "      <th>...</th>\n",
              "      <td>...</td>\n",
              "      <td>...</td>\n",
              "      <td>...</td>\n",
              "      <td>...</td>\n",
              "      <td>...</td>\n",
              "      <td>...</td>\n",
              "      <td>...</td>\n",
              "      <td>...</td>\n",
              "      <td>...</td>\n",
              "      <td>...</td>\n",
              "      <td>...</td>\n",
              "    </tr>\n",
              "    <tr>\n",
              "      <th>81730</th>\n",
              "      <td>LVMH</td>\n",
              "      <td>MC</td>\n",
              "      <td>53.889999</td>\n",
              "      <td>51.279999</td>\n",
              "      <td>53.689999</td>\n",
              "      <td>51.450001</td>\n",
              "      <td>404700.0</td>\n",
              "      <td>2021-01-26</td>\n",
              "      <td>2021</td>\n",
              "      <td>1</td>\n",
              "      <td>26</td>\n",
              "    </tr>\n",
              "    <tr>\n",
              "      <th>81731</th>\n",
              "      <td>LVMH</td>\n",
              "      <td>MC</td>\n",
              "      <td>50.779999</td>\n",
              "      <td>48.759998</td>\n",
              "      <td>50.419998</td>\n",
              "      <td>49.369999</td>\n",
              "      <td>688200.0</td>\n",
              "      <td>2021-01-27</td>\n",
              "      <td>2021</td>\n",
              "      <td>1</td>\n",
              "      <td>27</td>\n",
              "    </tr>\n",
              "    <tr>\n",
              "      <th>81732</th>\n",
              "      <td>LVMH</td>\n",
              "      <td>MC</td>\n",
              "      <td>51.820000</td>\n",
              "      <td>49.639999</td>\n",
              "      <td>49.930000</td>\n",
              "      <td>51.189999</td>\n",
              "      <td>480400.0</td>\n",
              "      <td>2021-01-28</td>\n",
              "      <td>2021</td>\n",
              "      <td>1</td>\n",
              "      <td>28</td>\n",
              "    </tr>\n",
              "    <tr>\n",
              "      <th>81733</th>\n",
              "      <td>LVMH</td>\n",
              "      <td>MC</td>\n",
              "      <td>51.130001</td>\n",
              "      <td>48.990002</td>\n",
              "      <td>51.099998</td>\n",
              "      <td>49.709999</td>\n",
              "      <td>341000.0</td>\n",
              "      <td>2021-01-29</td>\n",
              "      <td>2021</td>\n",
              "      <td>1</td>\n",
              "      <td>29</td>\n",
              "    </tr>\n",
              "    <tr>\n",
              "      <th>81734</th>\n",
              "      <td>LVMH</td>\n",
              "      <td>MC</td>\n",
              "      <td>51.290001</td>\n",
              "      <td>49.630001</td>\n",
              "      <td>49.790001</td>\n",
              "      <td>51.250000</td>\n",
              "      <td>348200.0</td>\n",
              "      <td>2021-02-01</td>\n",
              "      <td>2021</td>\n",
              "      <td>2</td>\n",
              "      <td>1</td>\n",
              "    </tr>\n",
              "  </tbody>\n",
              "</table>\n",
              "<p>81735 rows × 11 columns</p>\n",
              "</div>"
            ],
            "text/plain": [
              "      CompanyName StockName       High        Low  ...       Date  Year  Month Day\n",
              "0      TechnipFMC       FTI  29.855000  29.075001  ... 2010-01-04  2010      1   4\n",
              "1      TechnipFMC       FTI  30.270000  29.555000  ... 2010-01-05  2010      1   5\n",
              "2      TechnipFMC       FTI  30.305000  29.434999  ... 2010-01-06  2010      1   6\n",
              "3      TechnipFMC       FTI  30.219999  29.715000  ... 2010-01-07  2010      1   7\n",
              "4      TechnipFMC       FTI  30.500000  29.625000  ... 2010-01-08  2010      1   8\n",
              "...           ...       ...        ...        ...  ...        ...   ...    ...  ..\n",
              "81730        LVMH        MC  53.889999  51.279999  ... 2021-01-26  2021      1  26\n",
              "81731        LVMH        MC  50.779999  48.759998  ... 2021-01-27  2021      1  27\n",
              "81732        LVMH        MC  51.820000  49.639999  ... 2021-01-28  2021      1  28\n",
              "81733        LVMH        MC  51.130001  48.990002  ... 2021-01-29  2021      1  29\n",
              "81734        LVMH        MC  51.290001  49.630001  ... 2021-02-01  2021      2   1\n",
              "\n",
              "[81735 rows x 11 columns]"
            ]
          },
          "metadata": {
            "tags": []
          },
          "execution_count": 7
        }
      ]
    },
    {
      "cell_type": "code",
      "metadata": {
        "colab": {
          "base_uri": "https://localhost:8080/"
        },
        "id": "t6Jy8mDB7rZT",
        "outputId": "77b461b9-9d76-47b5-d249-e34fd7c12d9e"
      },
      "source": [
        "years = data['Year'].unique()\r\n",
        "years"
      ],
      "execution_count": 8,
      "outputs": [
        {
          "output_type": "execute_result",
          "data": {
            "text/plain": [
              "array([2010, 2011, 2012, 2013, 2014, 2015, 2016, 2017, 2018, 2019, 2020,\n",
              "       2021])"
            ]
          },
          "metadata": {
            "tags": []
          },
          "execution_count": 8
        }
      ]
    },
    {
      "cell_type": "markdown",
      "metadata": {
        "id": "YX_r6_Y5-0za"
      },
      "source": [
        "Close value plot of all years"
      ]
    },
    {
      "cell_type": "code",
      "metadata": {
        "colab": {
          "base_uri": "https://localhost:8080/",
          "height": 1000
        },
        "id": "m1-iprLp9xI_",
        "outputId": "6ad88edb-a3ca-43a2-baec-0c962893479c"
      },
      "source": [
        "for year in years:\r\n",
        "  to_plot = data[data['Year']==year].Close\r\n",
        "  plt.figure(figsize=(5,5))\r\n",
        "  plt.title(f'Lineplot of Close from the year {year}')\r\n",
        "  plt.plot(to_plot)\r\n",
        "  plt.show()"
      ],
      "execution_count": 9,
      "outputs": [
        {
          "output_type": "display_data",
          "data": {
            "image/png": "[encoded data removed]",
            "text/plain": [
              "<Figure size 360x360 with 1 Axes>"
            ]
          },
          "metadata": {
            "tags": [],
            "needs_background": "light"
          }
        },
        {
          "output_type": "display_data",
          "data": {
            "image/png": "[encoded data removed]",
            "text/plain": [
              "<Figure size 360x360 with 1 Axes>"
            ]
          },
          "metadata": {
            "tags": [],
            "needs_background": "light"
          }
        },
        {
          "output_type": "display_data",
          "data": {
            "image/png": "[encoded data removed]",
            "text/plain": [
              "<Figure size 360x360 with 1 Axes>"
            ]
          },
          "metadata": {
            "tags": [],
            "needs_background": "light"
          }
        },
        {
          "output_type": "display_data",
          "data": {
            "image/png": "[encoded data removed]",
            "text/plain": [
              "<Figure size 360x360 with 1 Axes>"
            ]
          },
          "metadata": {
            "tags": [],
            "needs_background": "light"
          }
        },
        {
          "output_type": "display_data",
          "data": {
            "image/png": "[encoded data removed]",
            "text/plain": [
              "<Figure size 360x360 with 1 Axes>"
            ]
          },
          "metadata": {
            "tags": [],
            "needs_background": "light"
          }
        },
        {
          "output_type": "display_data",
          "data": {
            "image/png": "[encoded data removed]",
            "text/plain": [
              "<Figure size 360x360 with 1 Axes>"
            ]
          },
          "metadata": {
            "tags": [],
            "needs_background": "light"
          }
        },
        {
          "output_type": "display_data",
          "data": {
            "image/png": "[encoded data removed]",
            "text/plain": [
              "<Figure size 360x360 with 1 Axes>"
            ]
          },
          "metadata": {
            "tags": [],
            "needs_background": "light"
          }
        },
        {
          "output_type": "display_data",
          "data": {
            "image/png": "[encoded data removed]",
            "text/plain": [
              "<Figure size 360x360 with 1 Axes>"
            ]
          },
          "metadata": {
            "tags": [],
            "needs_background": "light"
          }
        },
        {
          "output_type": "display_data",
          "data": {
            "image/png": "[encoded data removed]",
            "text/plain": [
              "<Figure size 360x360 with 1 Axes>"
            ]
          },
          "metadata": {
            "tags": [],
            "needs_background": "light"
          }
        },
        {
          "output_type": "display_data",
          "data": {
            "image/png": "[encoded data removed]",
            "text/plain": [
              "<Figure size 360x360 with 1 Axes>"
            ]
          },
          "metadata": {
            "tags": [],
            "needs_background": "light"
          }
        },
        {
          "output_type": "display_data",
          "data": {
            "image/png": "[encoded data removed]",
            "text/plain": [
              "<Figure size 360x360 with 1 Axes>"
            ]
          },
          "metadata": {
            "tags": [],
            "needs_background": "light"
          }
        },
        {
          "output_type": "display_data",
          "data": {
            "image/png": "[encoded data removed]",
            "text/plain": [
              "<Figure size 360x360 with 1 Axes>"
            ]
          },
          "metadata": {
            "tags": [],
            "needs_background": "light"
          }
        }
      ]
    },
    {
      "cell_type": "code",
      "metadata": {
        "id": "V-yVZGxW-ELB"
      },
      "source": [
        "cols = ['High', 'Low', 'Open', 'Close', 'Volume']"
      ],
      "execution_count": 10,
      "outputs": []
    },
    {
      "cell_type": "code",
      "metadata": {
        "colab": {
          "base_uri": "https://localhost:8080/",
          "height": 1000
        },
        "id": "MXEAlnug_HGR",
        "outputId": "4263505c-905f-4c74-e8ab-0e61e6c5a89c"
      },
      "source": [
        "for col in cols:\r\n",
        "  plt.title(f'Distplot of {col}')\r\n",
        "  sns.distplot(data[col])\r\n",
        "  plt.show()"
      ],
      "execution_count": 11,
      "outputs": [
        {
          "output_type": "display_data",
          "data": {
            "image/png": "[encoded data removed]",
            "text/plain": [
              "<Figure size 432x288 with 1 Axes>"
            ]
          },
          "metadata": {
            "tags": [],
            "needs_background": "light"
          }
        },
        {
          "output_type": "display_data",
          "data": {
            "image/png": "[encoded data removed]",
            "text/plain": [
              "<Figure size 432x288 with 1 Axes>"
            ]
          },
          "metadata": {
            "tags": [],
            "needs_background": "light"
          }
        },
        {
          "output_type": "display_data",
          "data": {
            "image/png": "[encoded data removed]",
            "text/plain": [
              "<Figure size 432x288 with 1 Axes>"
            ]
          },
          "metadata": {
            "tags": [],
            "needs_background": "light"
          }
        },
        {
          "output_type": "display_data",
          "data": {
            "image/png": "[encoded data removed]",
            "text/plain": [
              "<Figure size 432x288 with 1 Axes>"
            ]
          },
          "metadata": {
            "tags": [],
            "needs_background": "light"
          }
        },
        {
          "output_type": "display_data",
          "data": {
            "image/png": "[encoded data removed]",
            "text/plain": [
              "<Figure size 432x288 with 1 Axes>"
            ]
          },
          "metadata": {
            "tags": [],
            "needs_background": "light"
          }
        }
      ]
    },
    {
      "cell_type": "markdown",
      "metadata": {
        "id": "W6ME3dHpAGeU"
      },
      "source": [
        "**DATA PROCESSING**"
      ]
    },
    {
      "cell_type": "markdown",
      "metadata": {
        "id": "pFDUUH4HANW0"
      },
      "source": [
        "null values"
      ]
    },
    {
      "cell_type": "code",
      "metadata": {
        "colab": {
          "base_uri": "https://localhost:8080/"
        },
        "id": "1sM5GYlk_7Mo",
        "outputId": "33f2c596-79fa-4102-fa01-03aa24c9ab4f"
      },
      "source": [
        "data.isnull().sum().any()"
      ],
      "execution_count": 12,
      "outputs": [
        {
          "output_type": "execute_result",
          "data": {
            "text/plain": [
              "False"
            ]
          },
          "metadata": {
            "tags": []
          },
          "execution_count": 12
        }
      ]
    },
    {
      "cell_type": "markdown",
      "metadata": {
        "id": "HbTZxyoDAOu0"
      },
      "source": [
        "dropping useless columns"
      ]
    },
    {
      "cell_type": "code",
      "metadata": {
        "id": "A7ydO-i3AKex"
      },
      "source": [
        "data.drop(['Date', 'Year', 'Month', 'Day'], axis=1, inplace=True)"
      ],
      "execution_count": 13,
      "outputs": []
    },
    {
      "cell_type": "markdown",
      "metadata": {
        "id": "Ubd-6jU3CMo-"
      },
      "source": [
        "feature creation"
      ]
    },
    {
      "cell_type": "code",
      "metadata": {
        "id": "Z6ciGCLoCN8f"
      },
      "source": [
        "data['Difference'] = data['High'] - data['Low']"
      ],
      "execution_count": 14,
      "outputs": []
    },
    {
      "cell_type": "markdown",
      "metadata": {
        "id": "F0bIFYO3AZ9z"
      },
      "source": [
        "scaling numeric data"
      ]
    },
    {
      "cell_type": "code",
      "metadata": {
        "id": "vHEjodZiAYbd"
      },
      "source": [
        "from sklearn.preprocessing import RobustScaler, StandardScaler"
      ],
      "execution_count": 15,
      "outputs": []
    },
    {
      "cell_type": "code",
      "metadata": {
        "id": "G1BO4yO3AoIs"
      },
      "source": [
        "cols_to_scale = ['High', 'Low', 'Open', 'Close', 'Volume', 'Difference']"
      ],
      "execution_count": 16,
      "outputs": []
    },
    {
      "cell_type": "code",
      "metadata": {
        "id": "qKMA-2XCAips"
      },
      "source": [
        "robust = RobustScaler()\r\n",
        "standard = StandardScaler()\r\n",
        "\r\n",
        "data[cols_to_scale] = robust.fit_transform(data[cols_to_scale])\r\n",
        "data[cols_to_scale] = standard.fit_transform(data[cols_to_scale])"
      ],
      "execution_count": 17,
      "outputs": []
    },
    {
      "cell_type": "markdown",
      "metadata": {
        "id": "IFpyn1CmBV1Z"
      },
      "source": [
        "Encoding categorical data to numeric data"
      ]
    },
    {
      "cell_type": "code",
      "metadata": {
        "id": "36CnoZRGBL2o"
      },
      "source": [
        "cat_cols = ['CompanyName', 'StockName']"
      ],
      "execution_count": 18,
      "outputs": []
    },
    {
      "cell_type": "code",
      "metadata": {
        "id": "MUeN-V74Be40"
      },
      "source": [
        "from sklearn.preprocessing import LabelEncoder\r\n",
        "\r\n",
        "le = LabelEncoder()\r\n",
        "\r\n",
        "for col in cat_cols:\r\n",
        "  data[col] = le.fit_transform(data[col])"
      ],
      "execution_count": 19,
      "outputs": []
    },
    {
      "cell_type": "code",
      "metadata": {
        "colab": {
          "base_uri": "https://localhost:8080/",
          "height": 419
        },
        "id": "4fyUouEcCEaQ",
        "outputId": "b4c6669a-9fcc-4108-8396-6357f2805b37"
      },
      "source": [
        "data"
      ],
      "execution_count": 20,
      "outputs": [
        {
          "output_type": "execute_result",
          "data": {
            "text/html": [
              "<div>\n",
              "<style scoped>\n",
              "    .dataframe tbody tr th:only-of-type {\n",
              "        vertical-align: middle;\n",
              "    }\n",
              "\n",
              "    .dataframe tbody tr th {\n",
              "        vertical-align: top;\n",
              "    }\n",
              "\n",
              "    .dataframe thead th {\n",
              "        text-align: right;\n",
              "    }\n",
              "</style>\n",
              "<table border=\"1\" class=\"dataframe\">\n",
              "  <thead>\n",
              "    <tr style=\"text-align: right;\">\n",
              "      <th></th>\n",
              "      <th>CompanyName</th>\n",
              "      <th>StockName</th>\n",
              "      <th>High</th>\n",
              "      <th>Low</th>\n",
              "      <th>Open</th>\n",
              "      <th>Close</th>\n",
              "      <th>Volume</th>\n",
              "      <th>Difference</th>\n",
              "    </tr>\n",
              "  </thead>\n",
              "  <tbody>\n",
              "    <tr>\n",
              "      <th>0</th>\n",
              "      <td>33</td>\n",
              "      <td>16</td>\n",
              "      <td>-0.111459</td>\n",
              "      <td>-0.111279</td>\n",
              "      <td>-0.113421</td>\n",
              "      <td>-0.110627</td>\n",
              "      <td>0.149294</td>\n",
              "      <td>-0.048685</td>\n",
              "    </tr>\n",
              "    <tr>\n",
              "      <th>1</th>\n",
              "      <td>33</td>\n",
              "      <td>16</td>\n",
              "      <td>-0.109433</td>\n",
              "      <td>-0.108925</td>\n",
              "      <td>-0.110801</td>\n",
              "      <td>-0.108133</td>\n",
              "      <td>0.259533</td>\n",
              "      <td>-0.070317</td>\n",
              "    </tr>\n",
              "    <tr>\n",
              "      <th>2</th>\n",
              "      <td>33</td>\n",
              "      <td>16</td>\n",
              "      <td>-0.109263</td>\n",
              "      <td>-0.109514</td>\n",
              "      <td>-0.108694</td>\n",
              "      <td>-0.107448</td>\n",
              "      <td>0.450881</td>\n",
              "      <td>-0.018732</td>\n",
              "    </tr>\n",
              "    <tr>\n",
              "      <th>3</th>\n",
              "      <td>33</td>\n",
              "      <td>16</td>\n",
              "      <td>-0.109677</td>\n",
              "      <td>-0.108140</td>\n",
              "      <td>-0.108131</td>\n",
              "      <td>-0.109160</td>\n",
              "      <td>0.397942</td>\n",
              "      <td>-0.140206</td>\n",
              "    </tr>\n",
              "    <tr>\n",
              "      <th>4</th>\n",
              "      <td>33</td>\n",
              "      <td>16</td>\n",
              "      <td>-0.108311</td>\n",
              "      <td>-0.108582</td>\n",
              "      <td>-0.109723</td>\n",
              "      <td>-0.106543</td>\n",
              "      <td>0.656498</td>\n",
              "      <td>-0.017069</td>\n",
              "    </tr>\n",
              "    <tr>\n",
              "      <th>...</th>\n",
              "      <td>...</td>\n",
              "      <td>...</td>\n",
              "      <td>...</td>\n",
              "      <td>...</td>\n",
              "      <td>...</td>\n",
              "      <td>...</td>\n",
              "      <td>...</td>\n",
              "      <td>...</td>\n",
              "    </tr>\n",
              "    <tr>\n",
              "      <th>81730</th>\n",
              "      <td>18</td>\n",
              "      <td>21</td>\n",
              "      <td>0.005860</td>\n",
              "      <td>-0.002370</td>\n",
              "      <td>0.007149</td>\n",
              "      <td>-0.003830</td>\n",
              "      <td>-0.406598</td>\n",
              "      <td>0.560344</td>\n",
              "    </tr>\n",
              "    <tr>\n",
              "      <th>81731</th>\n",
              "      <td>18</td>\n",
              "      <td>21</td>\n",
              "      <td>-0.009320</td>\n",
              "      <td>-0.014730</td>\n",
              "      <td>-0.008869</td>\n",
              "      <td>-0.014004</td>\n",
              "      <td>-0.301793</td>\n",
              "      <td>0.363990</td>\n",
              "    </tr>\n",
              "    <tr>\n",
              "      <th>81732</th>\n",
              "      <td>18</td>\n",
              "      <td>21</td>\n",
              "      <td>-0.004244</td>\n",
              "      <td>-0.010413</td>\n",
              "      <td>-0.011269</td>\n",
              "      <td>-0.005102</td>\n",
              "      <td>-0.378613</td>\n",
              "      <td>0.417239</td>\n",
              "    </tr>\n",
              "    <tr>\n",
              "      <th>81733</th>\n",
              "      <td>18</td>\n",
              "      <td>21</td>\n",
              "      <td>-0.007612</td>\n",
              "      <td>-0.013602</td>\n",
              "      <td>-0.005538</td>\n",
              "      <td>-0.012341</td>\n",
              "      <td>-0.430147</td>\n",
              "      <td>0.403926</td>\n",
              "    </tr>\n",
              "    <tr>\n",
              "      <th>81734</th>\n",
              "      <td>18</td>\n",
              "      <td>21</td>\n",
              "      <td>-0.006831</td>\n",
              "      <td>-0.010463</td>\n",
              "      <td>-0.011954</td>\n",
              "      <td>-0.004809</td>\n",
              "      <td>-0.427485</td>\n",
              "      <td>0.244181</td>\n",
              "    </tr>\n",
              "  </tbody>\n",
              "</table>\n",
              "<p>81735 rows × 8 columns</p>\n",
              "</div>"
            ],
            "text/plain": [
              "       CompanyName  StockName      High  ...     Close    Volume  Difference\n",
              "0               33         16 -0.111459  ... -0.110627  0.149294   -0.048685\n",
              "1               33         16 -0.109433  ... -0.108133  0.259533   -0.070317\n",
              "2               33         16 -0.109263  ... -0.107448  0.450881   -0.018732\n",
              "3               33         16 -0.109677  ... -0.109160  0.397942   -0.140206\n",
              "4               33         16 -0.108311  ... -0.106543  0.656498   -0.017069\n",
              "...            ...        ...       ...  ...       ...       ...         ...\n",
              "81730           18         21  0.005860  ... -0.003830 -0.406598    0.560344\n",
              "81731           18         21 -0.009320  ... -0.014004 -0.301793    0.363990\n",
              "81732           18         21 -0.004244  ... -0.005102 -0.378613    0.417239\n",
              "81733           18         21 -0.007612  ... -0.012341 -0.430147    0.403926\n",
              "81734           18         21 -0.006831  ... -0.004809 -0.427485    0.244181\n",
              "\n",
              "[81735 rows x 8 columns]"
            ]
          },
          "metadata": {
            "tags": []
          },
          "execution_count": 20
        }
      ]
    },
    {
      "cell_type": "markdown",
      "metadata": {
        "id": "Yfubdq_tDBR7"
      },
      "source": [
        "feature correlation"
      ]
    },
    {
      "cell_type": "code",
      "metadata": {
        "colab": {
          "base_uri": "https://localhost:8080/",
          "height": 465
        },
        "id": "QYkrVJV4CU9N",
        "outputId": "fc066e7e-09b3-4f77-8269-b6f902e35648"
      },
      "source": [
        "corr = data.corr()\r\n",
        "plt.figure(figsize=(7,7))\r\n",
        "sns.heatmap(corr, cmap='coolwarm', annot=True, square=True, fmt='.2f')\r\n",
        "plt.show()"
      ],
      "execution_count": 21,
      "outputs": [
        {
          "output_type": "display_data",
          "data": {
            "image/png": "[encoded data removed]",
            "text/plain": [
              "<Figure size 504x504 with 2 Axes>"
            ]
          },
          "metadata": {
            "tags": [],
            "needs_background": "light"
          }
        }
      ]
    },
    {
      "cell_type": "markdown",
      "metadata": {
        "id": "dq-64owAD2Ef"
      },
      "source": [
        "**SPLITTING DATA INTO TRAINING AND TESTING SETS**"
      ]
    },
    {
      "cell_type": "code",
      "metadata": {
        "id": "-qGtMn49DVPn"
      },
      "source": [
        "from sklearn.model_selection import train_test_split"
      ],
      "execution_count": 22,
      "outputs": []
    },
    {
      "cell_type": "code",
      "metadata": {
        "id": "m5fBXgWVEA0u"
      },
      "source": [
        "X, y = data.drop('Close', axis=1), data['Close']"
      ],
      "execution_count": 23,
      "outputs": []
    },
    {
      "cell_type": "code",
      "metadata": {
        "id": "vRgjm-3xEEit"
      },
      "source": [
        "x_train, x_test, y_train, y_test = train_test_split(X, y, test_size=0.2, random_state=56)"
      ],
      "execution_count": 24,
      "outputs": []
    },
    {
      "cell_type": "markdown",
      "metadata": {
        "id": "lTXUEGdfENOp"
      },
      "source": [
        "**SPLITTING TRAINING DATA INTO TRAINING AND VALIDATION SETS**"
      ]
    },
    {
      "cell_type": "code",
      "metadata": {
        "id": "nJ0SZ2IsEMrU"
      },
      "source": [
        "x_train_, x_val, y_train_, y_val = train_test_split(x_train, y_train, test_size=0.2, random_state=56)"
      ],
      "execution_count": 25,
      "outputs": []
    },
    {
      "cell_type": "markdown",
      "metadata": {
        "id": "FrcsBXsNEZdO"
      },
      "source": [
        "**MODEL SELECTION**"
      ]
    },
    {
      "cell_type": "code",
      "metadata": {
        "id": "jDJQk5kUEYBX"
      },
      "source": [
        "from sklearn.ensemble import ExtraTreesRegressor, GradientBoostingRegressor, RandomForestRegressor\r\n",
        "from sklearn.tree import DecisionTreeRegressor\r\n",
        "from xgboost import XGBRegressor\r\n",
        "from lightgbm import LGBMRegressor\r\n",
        "from catboost import CatBoostRegressor\r\n",
        "from sklearn.linear_model import LinearRegression, Lasso, ElasticNet, RidgeCV"
      ],
      "execution_count": 26,
      "outputs": []
    },
    {
      "cell_type": "code",
      "metadata": {
        "id": "L9UAiCIME24r"
      },
      "source": [
        "from sklearn.metrics import mean_squared_error, r2_score"
      ],
      "execution_count": 27,
      "outputs": []
    },
    {
      "cell_type": "code",
      "metadata": {
        "id": "Kd8_40-bE6Wu"
      },
      "source": [
        "def model_selection(x_train_, x_val, y_train_, y_val, model):\r\n",
        "  model = model()\r\n",
        "  model.fit(x_train_, y_train_)\r\n",
        "\r\n",
        "  pred = model.predict(x_val)\r\n",
        "\r\n",
        "  error = np.sqrt(mean_squared_error(y_val, pred))\r\n",
        "  r2 = r2_score(y_val, pred)\r\n",
        "  train_score = model.score(x_train_, y_train_)\r\n",
        "  val_score = model.score(x_val, y_val)\r\n",
        "\r\n",
        "  print('Error:', error*100)\r\n",
        "  print('\\n')\r\n",
        "  print('R2 Score:', r2*100)\r\n",
        "  print('\\n')\r\n",
        "  print('Train Score:', train_score*100)\r\n",
        "  print('\\n')\r\n",
        "  print('Val Score:', val_score*100)\r\n",
        "  print('\\n')\r\n",
        "  print('Is Overfitting:', True if train_score>val_score else False)\r\n",
        "  print('\\n')\r\n",
        "  print('Overfitting by:', train_score - val_score)"
      ],
      "execution_count": 28,
      "outputs": []
    },
    {
      "cell_type": "code",
      "metadata": {
        "colab": {
          "base_uri": "https://localhost:8080/"
        },
        "id": "9D2D-5hMFJKp",
        "outputId": "97e909ca-0782-460e-8747-c36c4c7ee551"
      },
      "source": [
        "extratrees = model_selection(x_train_, x_val, y_train_, y_val, ExtraTreesRegressor)\r\n",
        "extratrees"
      ],
      "execution_count": 29,
      "outputs": [
        {
          "output_type": "stream",
          "text": [
            "Error: 0.5205867706399082\n",
            "\n",
            "\n",
            "R2 Score: 99.99552675087384\n",
            "\n",
            "\n",
            "Train Score: 99.99999907732347\n",
            "\n",
            "\n",
            "Val Score: 99.99552675087384\n",
            "\n",
            "\n",
            "Is Overfitting: True\n",
            "\n",
            "\n",
            "Overfitting by: 4.472326449633801e-05\n"
          ],
          "name": "stdout"
        }
      ]
    },
    {
      "cell_type": "code",
      "metadata": {
        "colab": {
          "base_uri": "https://localhost:8080/"
        },
        "id": "7dAtuWlnFMRT",
        "outputId": "b83b498b-e231-4df3-a48f-6871b820d81f"
      },
      "source": [
        "gradient = model_selection(x_train_, x_val, y_train_, y_val, GradientBoostingRegressor)\r\n",
        "gradient"
      ],
      "execution_count": 30,
      "outputs": [
        {
          "output_type": "stream",
          "text": [
            "Error: 0.7712147967187915\n",
            "\n",
            "\n",
            "R2 Score: 99.99018280228138\n",
            "\n",
            "\n",
            "Train Score: 99.99617641657066\n",
            "\n",
            "\n",
            "Val Score: 99.99018280228138\n",
            "\n",
            "\n",
            "Is Overfitting: True\n",
            "\n",
            "\n",
            "Overfitting by: 5.9936142892791366e-05\n"
          ],
          "name": "stdout"
        }
      ]
    },
    {
      "cell_type": "code",
      "metadata": {
        "colab": {
          "base_uri": "https://localhost:8080/"
        },
        "id": "i0cF5GllFPBr",
        "outputId": "672555c0-7847-43b6-d96d-56dbd653c336"
      },
      "source": [
        "random = model_selection(x_train_, x_val, y_train_, y_val, RandomForestRegressor)\r\n",
        "random"
      ],
      "execution_count": 31,
      "outputs": [
        {
          "output_type": "stream",
          "text": [
            "Error: 0.496130379401245\n",
            "\n",
            "\n",
            "R2 Score: 99.9959371716653\n",
            "\n",
            "\n",
            "Train Score: 99.99958153650103\n",
            "\n",
            "\n",
            "Val Score: 99.9959371716653\n",
            "\n",
            "\n",
            "Is Overfitting: True\n",
            "\n",
            "\n",
            "Overfitting by: 3.644364835719838e-05\n"
          ],
          "name": "stdout"
        }
      ]
    },
    {
      "cell_type": "code",
      "metadata": {
        "colab": {
          "base_uri": "https://localhost:8080/"
        },
        "id": "OiMXpyiOFU64",
        "outputId": "be74fca7-4379-49eb-b94c-e3fa1e867a94"
      },
      "source": [
        "linear = model_selection(x_train_, x_val, y_train_, y_val, LinearRegression)\r\n",
        "linear"
      ],
      "execution_count": 32,
      "outputs": [
        {
          "output_type": "stream",
          "text": [
            "Error: 0.417068023245548\n",
            "\n",
            "\n",
            "R2 Score: 99.99712888480194\n",
            "\n",
            "\n",
            "Train Score: 99.99764414529265\n",
            "\n",
            "\n",
            "Val Score: 99.99712888480194\n",
            "\n",
            "\n",
            "Is Overfitting: True\n",
            "\n",
            "\n",
            "Overfitting by: 5.152604907077141e-06\n"
          ],
          "name": "stdout"
        }
      ]
    },
    {
      "cell_type": "code",
      "metadata": {
        "colab": {
          "base_uri": "https://localhost:8080/"
        },
        "id": "hy5v6hcRFZMH",
        "outputId": "ac2e0d07-6b85-4e35-8bbb-8b4968a74782"
      },
      "source": [
        "lasso = model_selection(x_train_, x_val, y_train_, y_val, Lasso)\r\n",
        "lasso"
      ],
      "execution_count": 33,
      "outputs": [
        {
          "output_type": "stream",
          "text": [
            "Error: 72.481628813682\n",
            "\n",
            "\n",
            "R2 Score: 13.285301298089557\n",
            "\n",
            "\n",
            "Train Score: 13.318533474145688\n",
            "\n",
            "\n",
            "Val Score: 13.285301298089557\n",
            "\n",
            "\n",
            "Is Overfitting: True\n",
            "\n",
            "\n",
            "Overfitting by: 0.0003323217605613049\n"
          ],
          "name": "stdout"
        }
      ]
    },
    {
      "cell_type": "code",
      "metadata": {
        "colab": {
          "base_uri": "https://localhost:8080/"
        },
        "id": "DcpKjZovFbN8",
        "outputId": "c2efd5b5-5e02-46b6-b269-b74d06f5fa0b"
      },
      "source": [
        "net = model_selection(x_train_, x_val, y_train_, y_val, ElasticNet)\r\n",
        "net"
      ],
      "execution_count": 34,
      "outputs": [
        {
          "output_type": "stream",
          "text": [
            "Error: 41.8406669385858\n",
            "\n",
            "\n",
            "R2 Score: 71.10424622414493\n",
            "\n",
            "\n",
            "Train Score: 71.09374293720265\n",
            "\n",
            "\n",
            "Val Score: 71.10424622414493\n",
            "\n",
            "\n",
            "Is Overfitting: False\n",
            "\n",
            "\n",
            "Overfitting by: -0.00010503286942276091\n"
          ],
          "name": "stdout"
        }
      ]
    },
    {
      "cell_type": "code",
      "metadata": {
        "colab": {
          "base_uri": "https://localhost:8080/"
        },
        "id": "tTF-71o4Fh47",
        "outputId": "faf8c2a8-6777-4015-8734-facbacfd8e26"
      },
      "source": [
        "ridge = model_selection(x_train_, x_val, y_train_, y_val, RidgeCV)\r\n",
        "ridge"
      ],
      "execution_count": 35,
      "outputs": [
        {
          "output_type": "stream",
          "text": [
            "Error: 0.40680215028847494\n",
            "\n",
            "\n",
            "R2 Score: 99.99726848675581\n",
            "\n",
            "\n",
            "Train Score: 99.99762651292235\n",
            "\n",
            "\n",
            "Val Score: 99.99726848675581\n",
            "\n",
            "\n",
            "Is Overfitting: True\n",
            "\n",
            "\n",
            "Overfitting by: 3.5802616653590746e-06\n"
          ],
          "name": "stdout"
        }
      ]
    },
    {
      "cell_type": "code",
      "metadata": {
        "colab": {
          "base_uri": "https://localhost:8080/"
        },
        "id": "GCX_C_pdFjdU",
        "outputId": "12b7e14f-5207-4513-f06a-eaa4c695d1ff"
      },
      "source": [
        "xgb = model_selection(x_train_, x_val, y_train_, y_val, XGBRegressor)\r\n",
        "xgb"
      ],
      "execution_count": 36,
      "outputs": [
        {
          "output_type": "stream",
          "text": [
            "[13:38:33] WARNING: /workspace/src/objective/regression_obj.cu:152: reg:linear is now deprecated in favor of reg:squarederror.\n",
            "Error: 0.776819363096076\n",
            "\n",
            "\n",
            "R2 Score: 99.99003959688366\n",
            "\n",
            "\n",
            "Train Score: 99.99586450038213\n",
            "\n",
            "\n",
            "Val Score: 99.99003959688366\n",
            "\n",
            "\n",
            "Is Overfitting: True\n",
            "\n",
            "\n",
            "Overfitting by: 5.8249034984636516e-05\n"
          ],
          "name": "stdout"
        }
      ]
    },
    {
      "cell_type": "code",
      "metadata": {
        "colab": {
          "base_uri": "https://localhost:8080/"
        },
        "id": "sIMz6KvSFle_",
        "outputId": "de17e841-3040-4ae7-f536-46f2988b3ad8"
      },
      "source": [
        "lgbm = model_selection(x_train_, x_val, y_train_, y_val, LGBMRegressor)\r\n",
        "lgbm"
      ],
      "execution_count": 37,
      "outputs": [
        {
          "output_type": "stream",
          "text": [
            "Error: 21.040223097177922\n",
            "\n",
            "\n",
            "R2 Score: 92.69302684413633\n",
            "\n",
            "\n",
            "Train Score: 94.16643643135227\n",
            "\n",
            "\n",
            "Val Score: 92.69302684413633\n",
            "\n",
            "\n",
            "Is Overfitting: True\n",
            "\n",
            "\n",
            "Overfitting by: 0.014734095872159347\n"
          ],
          "name": "stdout"
        }
      ]
    },
    {
      "cell_type": "code",
      "metadata": {
        "colab": {
          "base_uri": "https://localhost:8080/"
        },
        "id": "4hLmGr8yFnsM",
        "outputId": "8c72bacd-9d4d-4ff8-a766-8e8b75cdee54"
      },
      "source": [
        "catboost = model_selection(x_train_, x_val, y_train_, y_val, CatBoostRegressor)\r\n",
        "catboost"
      ],
      "execution_count": 38,
      "outputs": [
        {
          "output_type": "stream",
          "text": [
            "Learning rate set to 0.078942\n",
            "0:\tlearn: 0.9667997\ttotal: 58.1ms\tremaining: 58s\n",
            "1:\tlearn: 0.9030577\ttotal: 68.3ms\tremaining: 34.1s\n",
            "2:\tlearn: 0.8435133\ttotal: 78.7ms\tremaining: 26.2s\n",
            "3:\tlearn: 0.7878524\ttotal: 88.7ms\tremaining: 22.1s\n",
            "4:\tlearn: 0.7359296\ttotal: 98.1ms\tremaining: 19.5s\n",
            "5:\tlearn: 0.6873114\ttotal: 108ms\tremaining: 17.9s\n",
            "6:\tlearn: 0.6416103\ttotal: 117ms\tremaining: 16.6s\n",
            "7:\tlearn: 0.5992080\ttotal: 130ms\tremaining: 16.1s\n",
            "8:\tlearn: 0.5598346\ttotal: 140ms\tremaining: 15.4s\n",
            "9:\tlearn: 0.5237338\ttotal: 150ms\tremaining: 14.8s\n",
            "10:\tlearn: 0.4891348\ttotal: 159ms\tremaining: 14.3s\n",
            "11:\tlearn: 0.4573595\ttotal: 168ms\tremaining: 13.8s\n",
            "12:\tlearn: 0.4273250\ttotal: 177ms\tremaining: 13.5s\n",
            "13:\tlearn: 0.3996705\ttotal: 199ms\tremaining: 14s\n",
            "14:\tlearn: 0.3735230\ttotal: 209ms\tremaining: 13.7s\n",
            "15:\tlearn: 0.3491832\ttotal: 219ms\tremaining: 13.4s\n",
            "16:\tlearn: 0.3264648\ttotal: 228ms\tremaining: 13.2s\n",
            "17:\tlearn: 0.3052103\ttotal: 237ms\tremaining: 12.9s\n",
            "18:\tlearn: 0.2851622\ttotal: 246ms\tremaining: 12.7s\n",
            "19:\tlearn: 0.2668741\ttotal: 256ms\tremaining: 12.5s\n",
            "20:\tlearn: 0.2496520\ttotal: 265ms\tremaining: 12.3s\n",
            "21:\tlearn: 0.2335633\ttotal: 275ms\tremaining: 12.2s\n",
            "22:\tlearn: 0.2187152\ttotal: 284ms\tremaining: 12.1s\n",
            "23:\tlearn: 0.2046520\ttotal: 294ms\tremaining: 11.9s\n",
            "24:\tlearn: 0.1914715\ttotal: 304ms\tremaining: 11.8s\n",
            "25:\tlearn: 0.1792937\ttotal: 314ms\tremaining: 11.7s\n",
            "26:\tlearn: 0.1678089\ttotal: 323ms\tremaining: 11.7s\n",
            "27:\tlearn: 0.1572582\ttotal: 335ms\tremaining: 11.6s\n",
            "28:\tlearn: 0.1474792\ttotal: 346ms\tremaining: 11.6s\n",
            "29:\tlearn: 0.1382523\ttotal: 355ms\tremaining: 11.5s\n",
            "30:\tlearn: 0.1296924\ttotal: 365ms\tremaining: 11.4s\n",
            "31:\tlearn: 0.1217117\ttotal: 375ms\tremaining: 11.3s\n",
            "32:\tlearn: 0.1141931\ttotal: 384ms\tremaining: 11.3s\n",
            "33:\tlearn: 0.1072668\ttotal: 394ms\tremaining: 11.2s\n",
            "34:\tlearn: 0.1008765\ttotal: 408ms\tremaining: 11.3s\n",
            "35:\tlearn: 0.0949269\ttotal: 419ms\tremaining: 11.2s\n",
            "36:\tlearn: 0.0893275\ttotal: 429ms\tremaining: 11.2s\n",
            "37:\tlearn: 0.0842073\ttotal: 439ms\tremaining: 11.1s\n",
            "38:\tlearn: 0.0794163\ttotal: 453ms\tremaining: 11.2s\n",
            "39:\tlearn: 0.0750039\ttotal: 462ms\tremaining: 11.1s\n",
            "40:\tlearn: 0.0708993\ttotal: 473ms\tremaining: 11.1s\n",
            "41:\tlearn: 0.0671746\ttotal: 483ms\tremaining: 11s\n",
            "42:\tlearn: 0.0637073\ttotal: 493ms\tremaining: 11s\n",
            "43:\tlearn: 0.0604964\ttotal: 503ms\tremaining: 10.9s\n",
            "44:\tlearn: 0.0575641\ttotal: 512ms\tremaining: 10.9s\n",
            "45:\tlearn: 0.0549560\ttotal: 523ms\tremaining: 10.8s\n",
            "46:\tlearn: 0.0524823\ttotal: 538ms\tremaining: 10.9s\n",
            "47:\tlearn: 0.0503050\ttotal: 548ms\tremaining: 10.9s\n",
            "48:\tlearn: 0.0482590\ttotal: 558ms\tremaining: 10.8s\n",
            "49:\tlearn: 0.0463906\ttotal: 567ms\tremaining: 10.8s\n",
            "50:\tlearn: 0.0445759\ttotal: 577ms\tremaining: 10.7s\n",
            "51:\tlearn: 0.0429800\ttotal: 587ms\tremaining: 10.7s\n",
            "52:\tlearn: 0.0414570\ttotal: 596ms\tremaining: 10.7s\n",
            "53:\tlearn: 0.0401055\ttotal: 614ms\tremaining: 10.8s\n",
            "54:\tlearn: 0.0388648\ttotal: 624ms\tremaining: 10.7s\n",
            "55:\tlearn: 0.0377663\ttotal: 634ms\tremaining: 10.7s\n",
            "56:\tlearn: 0.0368387\ttotal: 643ms\tremaining: 10.6s\n",
            "57:\tlearn: 0.0359661\ttotal: 660ms\tremaining: 10.7s\n",
            "58:\tlearn: 0.0351439\ttotal: 670ms\tremaining: 10.7s\n",
            "59:\tlearn: 0.0344656\ttotal: 681ms\tremaining: 10.7s\n",
            "60:\tlearn: 0.0337819\ttotal: 690ms\tremaining: 10.6s\n",
            "61:\tlearn: 0.0332044\ttotal: 700ms\tremaining: 10.6s\n",
            "62:\tlearn: 0.0326696\ttotal: 710ms\tremaining: 10.6s\n",
            "63:\tlearn: 0.0322326\ttotal: 723ms\tremaining: 10.6s\n",
            "64:\tlearn: 0.0317609\ttotal: 745ms\tremaining: 10.7s\n",
            "65:\tlearn: 0.0313380\ttotal: 756ms\tremaining: 10.7s\n",
            "66:\tlearn: 0.0309742\ttotal: 767ms\tremaining: 10.7s\n",
            "67:\tlearn: 0.0306692\ttotal: 777ms\tremaining: 10.6s\n",
            "68:\tlearn: 0.0303732\ttotal: 787ms\tremaining: 10.6s\n",
            "69:\tlearn: 0.0301336\ttotal: 797ms\tremaining: 10.6s\n",
            "70:\tlearn: 0.0299074\ttotal: 806ms\tremaining: 10.5s\n",
            "71:\tlearn: 0.0297145\ttotal: 821ms\tremaining: 10.6s\n",
            "72:\tlearn: 0.0295187\ttotal: 831ms\tremaining: 10.5s\n",
            "73:\tlearn: 0.0293451\ttotal: 840ms\tremaining: 10.5s\n",
            "74:\tlearn: 0.0291688\ttotal: 850ms\tremaining: 10.5s\n",
            "75:\tlearn: 0.0290301\ttotal: 860ms\tremaining: 10.5s\n",
            "76:\tlearn: 0.0288773\ttotal: 869ms\tremaining: 10.4s\n",
            "77:\tlearn: 0.0287756\ttotal: 879ms\tremaining: 10.4s\n",
            "78:\tlearn: 0.0286642\ttotal: 888ms\tremaining: 10.4s\n",
            "79:\tlearn: 0.0285489\ttotal: 898ms\tremaining: 10.3s\n",
            "80:\tlearn: 0.0284416\ttotal: 907ms\tremaining: 10.3s\n",
            "81:\tlearn: 0.0283047\ttotal: 916ms\tremaining: 10.3s\n",
            "82:\tlearn: 0.0282210\ttotal: 926ms\tremaining: 10.2s\n",
            "83:\tlearn: 0.0281334\ttotal: 935ms\tremaining: 10.2s\n",
            "84:\tlearn: 0.0280299\ttotal: 950ms\tremaining: 10.2s\n",
            "85:\tlearn: 0.0279345\ttotal: 959ms\tremaining: 10.2s\n",
            "86:\tlearn: 0.0278819\ttotal: 970ms\tremaining: 10.2s\n",
            "87:\tlearn: 0.0278118\ttotal: 986ms\tremaining: 10.2s\n",
            "88:\tlearn: 0.0277763\ttotal: 996ms\tremaining: 10.2s\n",
            "89:\tlearn: 0.0277158\ttotal: 1s\tremaining: 10.2s\n",
            "90:\tlearn: 0.0276008\ttotal: 1.01s\tremaining: 10.1s\n",
            "91:\tlearn: 0.0275563\ttotal: 1.03s\tremaining: 10.2s\n",
            "92:\tlearn: 0.0274995\ttotal: 1.04s\tremaining: 10.1s\n",
            "93:\tlearn: 0.0274576\ttotal: 1.05s\tremaining: 10.1s\n",
            "94:\tlearn: 0.0273878\ttotal: 1.06s\tremaining: 10.1s\n",
            "95:\tlearn: 0.0273555\ttotal: 1.07s\tremaining: 10.1s\n",
            "96:\tlearn: 0.0273175\ttotal: 1.08s\tremaining: 10.1s\n",
            "97:\tlearn: 0.0272752\ttotal: 1.09s\tremaining: 10s\n",
            "98:\tlearn: 0.0272365\ttotal: 1.1s\tremaining: 10s\n",
            "99:\tlearn: 0.0271910\ttotal: 1.11s\tremaining: 9.99s\n",
            "100:\tlearn: 0.0271529\ttotal: 1.12s\tremaining: 9.97s\n",
            "101:\tlearn: 0.0270964\ttotal: 1.13s\tremaining: 9.95s\n",
            "102:\tlearn: 0.0270127\ttotal: 1.14s\tremaining: 9.93s\n",
            "103:\tlearn: 0.0269847\ttotal: 1.16s\tremaining: 9.97s\n",
            "104:\tlearn: 0.0269633\ttotal: 1.17s\tremaining: 9.96s\n",
            "105:\tlearn: 0.0269405\ttotal: 1.18s\tremaining: 9.99s\n",
            "106:\tlearn: 0.0269013\ttotal: 1.19s\tremaining: 9.97s\n",
            "107:\tlearn: 0.0268766\ttotal: 1.2s\tremaining: 9.95s\n",
            "108:\tlearn: 0.0268487\ttotal: 1.21s\tremaining: 9.92s\n",
            "109:\tlearn: 0.0268287\ttotal: 1.22s\tremaining: 9.89s\n",
            "110:\tlearn: 0.0267897\ttotal: 1.24s\tremaining: 9.89s\n",
            "111:\tlearn: 0.0267546\ttotal: 1.25s\tremaining: 9.87s\n",
            "112:\tlearn: 0.0267332\ttotal: 1.25s\tremaining: 9.85s\n",
            "113:\tlearn: 0.0267160\ttotal: 1.26s\tremaining: 9.83s\n",
            "114:\tlearn: 0.0266885\ttotal: 1.27s\tremaining: 9.81s\n",
            "115:\tlearn: 0.0266494\ttotal: 1.28s\tremaining: 9.78s\n",
            "116:\tlearn: 0.0266306\ttotal: 1.29s\tremaining: 9.76s\n",
            "117:\tlearn: 0.0266069\ttotal: 1.3s\tremaining: 9.73s\n",
            "118:\tlearn: 0.0265914\ttotal: 1.31s\tremaining: 9.71s\n",
            "119:\tlearn: 0.0265658\ttotal: 1.32s\tremaining: 9.69s\n",
            "120:\tlearn: 0.0265519\ttotal: 1.33s\tremaining: 9.67s\n",
            "121:\tlearn: 0.0265268\ttotal: 1.34s\tremaining: 9.64s\n",
            "122:\tlearn: 0.0265127\ttotal: 1.35s\tremaining: 9.62s\n",
            "123:\tlearn: 0.0264890\ttotal: 1.36s\tremaining: 9.63s\n",
            "124:\tlearn: 0.0264478\ttotal: 1.37s\tremaining: 9.61s\n",
            "125:\tlearn: 0.0264338\ttotal: 1.38s\tremaining: 9.59s\n",
            "126:\tlearn: 0.0263693\ttotal: 1.39s\tremaining: 9.57s\n",
            "127:\tlearn: 0.0263561\ttotal: 1.4s\tremaining: 9.55s\n",
            "128:\tlearn: 0.0263405\ttotal: 1.41s\tremaining: 9.53s\n",
            "129:\tlearn: 0.0263262\ttotal: 1.42s\tremaining: 9.51s\n",
            "130:\tlearn: 0.0262698\ttotal: 1.44s\tremaining: 9.56s\n",
            "131:\tlearn: 0.0262202\ttotal: 1.45s\tremaining: 9.55s\n",
            "132:\tlearn: 0.0262051\ttotal: 1.46s\tremaining: 9.54s\n",
            "133:\tlearn: 0.0261870\ttotal: 1.47s\tremaining: 9.52s\n",
            "134:\tlearn: 0.0261740\ttotal: 1.48s\tremaining: 9.5s\n",
            "135:\tlearn: 0.0261340\ttotal: 1.49s\tremaining: 9.48s\n",
            "136:\tlearn: 0.0261135\ttotal: 1.5s\tremaining: 9.46s\n",
            "137:\tlearn: 0.0260700\ttotal: 1.51s\tremaining: 9.45s\n",
            "138:\tlearn: 0.0260481\ttotal: 1.52s\tremaining: 9.43s\n",
            "139:\tlearn: 0.0260308\ttotal: 1.53s\tremaining: 9.42s\n",
            "140:\tlearn: 0.0260219\ttotal: 1.54s\tremaining: 9.4s\n",
            "141:\tlearn: 0.0260137\ttotal: 1.55s\tremaining: 9.38s\n",
            "142:\tlearn: 0.0259732\ttotal: 1.56s\tremaining: 9.38s\n",
            "143:\tlearn: 0.0259617\ttotal: 1.58s\tremaining: 9.37s\n",
            "144:\tlearn: 0.0259437\ttotal: 1.58s\tremaining: 9.35s\n",
            "145:\tlearn: 0.0259074\ttotal: 1.59s\tremaining: 9.33s\n",
            "146:\tlearn: 0.0258923\ttotal: 1.6s\tremaining: 9.31s\n",
            "147:\tlearn: 0.0258584\ttotal: 1.61s\tremaining: 9.29s\n",
            "148:\tlearn: 0.0258412\ttotal: 1.63s\tremaining: 9.29s\n",
            "149:\tlearn: 0.0258274\ttotal: 1.64s\tremaining: 9.27s\n",
            "150:\tlearn: 0.0258092\ttotal: 1.65s\tremaining: 9.28s\n",
            "151:\tlearn: 0.0257684\ttotal: 1.66s\tremaining: 9.27s\n",
            "152:\tlearn: 0.0257560\ttotal: 1.67s\tremaining: 9.25s\n",
            "153:\tlearn: 0.0257454\ttotal: 1.68s\tremaining: 9.24s\n",
            "154:\tlearn: 0.0257339\ttotal: 1.69s\tremaining: 9.23s\n",
            "155:\tlearn: 0.0256982\ttotal: 1.71s\tremaining: 9.25s\n",
            "156:\tlearn: 0.0256839\ttotal: 1.72s\tremaining: 9.24s\n",
            "157:\tlearn: 0.0256472\ttotal: 1.73s\tremaining: 9.22s\n",
            "158:\tlearn: 0.0256273\ttotal: 1.74s\tremaining: 9.2s\n",
            "159:\tlearn: 0.0255917\ttotal: 1.75s\tremaining: 9.19s\n",
            "160:\tlearn: 0.0255815\ttotal: 1.76s\tremaining: 9.17s\n",
            "161:\tlearn: 0.0255620\ttotal: 1.77s\tremaining: 9.17s\n",
            "162:\tlearn: 0.0255536\ttotal: 1.78s\tremaining: 9.16s\n",
            "163:\tlearn: 0.0255431\ttotal: 1.79s\tremaining: 9.14s\n",
            "164:\tlearn: 0.0255080\ttotal: 1.8s\tremaining: 9.12s\n",
            "165:\tlearn: 0.0254958\ttotal: 1.81s\tremaining: 9.11s\n",
            "166:\tlearn: 0.0254875\ttotal: 1.82s\tremaining: 9.08s\n",
            "167:\tlearn: 0.0254786\ttotal: 1.83s\tremaining: 9.07s\n",
            "168:\tlearn: 0.0254661\ttotal: 1.84s\tremaining: 9.05s\n",
            "169:\tlearn: 0.0254554\ttotal: 1.85s\tremaining: 9.05s\n",
            "170:\tlearn: 0.0254490\ttotal: 1.86s\tremaining: 9.03s\n",
            "171:\tlearn: 0.0254172\ttotal: 1.87s\tremaining: 9.02s\n",
            "172:\tlearn: 0.0254052\ttotal: 1.88s\tremaining: 9s\n",
            "173:\tlearn: 0.0253757\ttotal: 1.89s\tremaining: 8.98s\n",
            "174:\tlearn: 0.0253672\ttotal: 1.9s\tremaining: 8.96s\n",
            "175:\tlearn: 0.0253603\ttotal: 1.91s\tremaining: 8.95s\n",
            "176:\tlearn: 0.0253490\ttotal: 1.92s\tremaining: 8.93s\n",
            "177:\tlearn: 0.0253353\ttotal: 1.93s\tremaining: 8.91s\n",
            "178:\tlearn: 0.0253278\ttotal: 1.94s\tremaining: 8.89s\n",
            "179:\tlearn: 0.0253176\ttotal: 1.95s\tremaining: 8.88s\n",
            "180:\tlearn: 0.0252888\ttotal: 1.96s\tremaining: 8.89s\n",
            "181:\tlearn: 0.0252810\ttotal: 1.98s\tremaining: 8.89s\n",
            "182:\tlearn: 0.0252502\ttotal: 1.99s\tremaining: 8.88s\n",
            "183:\tlearn: 0.0252412\ttotal: 2s\tremaining: 8.86s\n",
            "184:\tlearn: 0.0252275\ttotal: 2.01s\tremaining: 8.84s\n",
            "185:\tlearn: 0.0252208\ttotal: 2.02s\tremaining: 8.83s\n",
            "186:\tlearn: 0.0251953\ttotal: 2.03s\tremaining: 8.82s\n",
            "187:\tlearn: 0.0251831\ttotal: 2.04s\tremaining: 8.8s\n",
            "188:\tlearn: 0.0251601\ttotal: 2.05s\tremaining: 8.79s\n",
            "189:\tlearn: 0.0251513\ttotal: 2.06s\tremaining: 8.79s\n",
            "190:\tlearn: 0.0251310\ttotal: 2.07s\tremaining: 8.78s\n",
            "191:\tlearn: 0.0251202\ttotal: 2.08s\tremaining: 8.76s\n",
            "192:\tlearn: 0.0250894\ttotal: 2.09s\tremaining: 8.74s\n",
            "193:\tlearn: 0.0250841\ttotal: 2.1s\tremaining: 8.73s\n",
            "194:\tlearn: 0.0250663\ttotal: 2.11s\tremaining: 8.71s\n",
            "195:\tlearn: 0.0250581\ttotal: 2.12s\tremaining: 8.7s\n",
            "196:\tlearn: 0.0250333\ttotal: 2.13s\tremaining: 8.68s\n",
            "197:\tlearn: 0.0250277\ttotal: 2.14s\tremaining: 8.67s\n",
            "198:\tlearn: 0.0250214\ttotal: 2.15s\tremaining: 8.65s\n",
            "199:\tlearn: 0.0250157\ttotal: 2.16s\tremaining: 8.64s\n",
            "200:\tlearn: 0.0250066\ttotal: 2.18s\tremaining: 8.67s\n",
            "201:\tlearn: 0.0249905\ttotal: 2.19s\tremaining: 8.65s\n",
            "202:\tlearn: 0.0249780\ttotal: 2.2s\tremaining: 8.64s\n",
            "203:\tlearn: 0.0249719\ttotal: 2.22s\tremaining: 8.67s\n",
            "204:\tlearn: 0.0249626\ttotal: 2.23s\tremaining: 8.65s\n",
            "205:\tlearn: 0.0249530\ttotal: 2.24s\tremaining: 8.64s\n",
            "206:\tlearn: 0.0249457\ttotal: 2.25s\tremaining: 8.62s\n",
            "207:\tlearn: 0.0249331\ttotal: 2.26s\tremaining: 8.62s\n",
            "208:\tlearn: 0.0249285\ttotal: 2.28s\tremaining: 8.62s\n",
            "209:\tlearn: 0.0249142\ttotal: 2.29s\tremaining: 8.6s\n",
            "210:\tlearn: 0.0249012\ttotal: 2.29s\tremaining: 8.58s\n",
            "211:\tlearn: 0.0248906\ttotal: 2.3s\tremaining: 8.56s\n",
            "212:\tlearn: 0.0248811\ttotal: 2.31s\tremaining: 8.55s\n",
            "213:\tlearn: 0.0248731\ttotal: 2.32s\tremaining: 8.54s\n",
            "214:\tlearn: 0.0248655\ttotal: 2.33s\tremaining: 8.52s\n",
            "215:\tlearn: 0.0248535\ttotal: 2.34s\tremaining: 8.51s\n",
            "216:\tlearn: 0.0248466\ttotal: 2.35s\tremaining: 8.49s\n",
            "217:\tlearn: 0.0248369\ttotal: 2.36s\tremaining: 8.47s\n",
            "218:\tlearn: 0.0248155\ttotal: 2.37s\tremaining: 8.46s\n",
            "219:\tlearn: 0.0248108\ttotal: 2.39s\tremaining: 8.46s\n",
            "220:\tlearn: 0.0248032\ttotal: 2.4s\tremaining: 8.45s\n",
            "221:\tlearn: 0.0247790\ttotal: 2.41s\tremaining: 8.44s\n",
            "222:\tlearn: 0.0247709\ttotal: 2.42s\tremaining: 8.43s\n",
            "223:\tlearn: 0.0247651\ttotal: 2.43s\tremaining: 8.43s\n",
            "224:\tlearn: 0.0247566\ttotal: 2.44s\tremaining: 8.41s\n",
            "225:\tlearn: 0.0247408\ttotal: 2.45s\tremaining: 8.4s\n",
            "226:\tlearn: 0.0247341\ttotal: 2.47s\tremaining: 8.4s\n",
            "227:\tlearn: 0.0247292\ttotal: 2.48s\tremaining: 8.4s\n",
            "228:\tlearn: 0.0247226\ttotal: 2.49s\tremaining: 8.38s\n",
            "229:\tlearn: 0.0247170\ttotal: 2.5s\tremaining: 8.37s\n",
            "230:\tlearn: 0.0247070\ttotal: 2.51s\tremaining: 8.37s\n",
            "231:\tlearn: 0.0247010\ttotal: 2.52s\tremaining: 8.35s\n",
            "232:\tlearn: 0.0246943\ttotal: 2.53s\tremaining: 8.34s\n",
            "233:\tlearn: 0.0246888\ttotal: 2.54s\tremaining: 8.33s\n",
            "234:\tlearn: 0.0246830\ttotal: 2.55s\tremaining: 8.31s\n",
            "235:\tlearn: 0.0246800\ttotal: 2.56s\tremaining: 8.3s\n",
            "236:\tlearn: 0.0246765\ttotal: 2.57s\tremaining: 8.28s\n",
            "237:\tlearn: 0.0246686\ttotal: 2.58s\tremaining: 8.27s\n",
            "238:\tlearn: 0.0246646\ttotal: 2.6s\tremaining: 8.26s\n",
            "239:\tlearn: 0.0246556\ttotal: 2.6s\tremaining: 8.25s\n",
            "240:\tlearn: 0.0246488\ttotal: 2.61s\tremaining: 8.23s\n",
            "241:\tlearn: 0.0246401\ttotal: 2.62s\tremaining: 8.22s\n",
            "242:\tlearn: 0.0246353\ttotal: 2.63s\tremaining: 8.21s\n",
            "243:\tlearn: 0.0246215\ttotal: 2.64s\tremaining: 8.19s\n",
            "244:\tlearn: 0.0246161\ttotal: 2.65s\tremaining: 8.18s\n",
            "245:\tlearn: 0.0246110\ttotal: 2.66s\tremaining: 8.16s\n",
            "246:\tlearn: 0.0245881\ttotal: 2.68s\tremaining: 8.16s\n",
            "247:\tlearn: 0.0245850\ttotal: 2.69s\tremaining: 8.15s\n",
            "248:\tlearn: 0.0245803\ttotal: 2.69s\tremaining: 8.13s\n",
            "249:\tlearn: 0.0245731\ttotal: 2.71s\tremaining: 8.12s\n",
            "250:\tlearn: 0.0245655\ttotal: 2.71s\tremaining: 8.1s\n",
            "251:\tlearn: 0.0245598\ttotal: 2.72s\tremaining: 8.09s\n",
            "252:\tlearn: 0.0245572\ttotal: 2.73s\tremaining: 8.07s\n",
            "253:\tlearn: 0.0245504\ttotal: 2.74s\tremaining: 8.06s\n",
            "254:\tlearn: 0.0245420\ttotal: 2.75s\tremaining: 8.04s\n",
            "255:\tlearn: 0.0245310\ttotal: 2.76s\tremaining: 8.03s\n",
            "256:\tlearn: 0.0245139\ttotal: 2.77s\tremaining: 8.02s\n",
            "257:\tlearn: 0.0245086\ttotal: 2.79s\tremaining: 8.02s\n",
            "258:\tlearn: 0.0245014\ttotal: 2.8s\tremaining: 8.02s\n",
            "259:\tlearn: 0.0244935\ttotal: 2.81s\tremaining: 8s\n",
            "260:\tlearn: 0.0244912\ttotal: 2.82s\tremaining: 7.99s\n",
            "261:\tlearn: 0.0244823\ttotal: 2.83s\tremaining: 7.98s\n",
            "262:\tlearn: 0.0244788\ttotal: 2.84s\tremaining: 7.96s\n",
            "263:\tlearn: 0.0244733\ttotal: 2.85s\tremaining: 7.95s\n",
            "264:\tlearn: 0.0244696\ttotal: 2.86s\tremaining: 7.94s\n",
            "265:\tlearn: 0.0244665\ttotal: 2.87s\tremaining: 7.93s\n",
            "266:\tlearn: 0.0244600\ttotal: 2.89s\tremaining: 7.92s\n",
            "267:\tlearn: 0.0244439\ttotal: 2.9s\tremaining: 7.91s\n",
            "268:\tlearn: 0.0244393\ttotal: 2.91s\tremaining: 7.9s\n",
            "269:\tlearn: 0.0244370\ttotal: 2.92s\tremaining: 7.89s\n",
            "270:\tlearn: 0.0244321\ttotal: 2.93s\tremaining: 7.88s\n",
            "271:\tlearn: 0.0244265\ttotal: 2.94s\tremaining: 7.87s\n",
            "272:\tlearn: 0.0244226\ttotal: 2.95s\tremaining: 7.86s\n",
            "273:\tlearn: 0.0244147\ttotal: 2.96s\tremaining: 7.84s\n",
            "274:\tlearn: 0.0244031\ttotal: 2.97s\tremaining: 7.83s\n",
            "275:\tlearn: 0.0243981\ttotal: 2.98s\tremaining: 7.81s\n",
            "276:\tlearn: 0.0243961\ttotal: 2.99s\tremaining: 7.8s\n",
            "277:\tlearn: 0.0243869\ttotal: 3s\tremaining: 7.79s\n",
            "278:\tlearn: 0.0243838\ttotal: 3.01s\tremaining: 7.78s\n",
            "279:\tlearn: 0.0243789\ttotal: 3.02s\tremaining: 7.77s\n",
            "280:\tlearn: 0.0243728\ttotal: 3.04s\tremaining: 7.77s\n",
            "281:\tlearn: 0.0243690\ttotal: 3.04s\tremaining: 7.75s\n",
            "282:\tlearn: 0.0243646\ttotal: 3.06s\tremaining: 7.74s\n",
            "283:\tlearn: 0.0243618\ttotal: 3.06s\tremaining: 7.73s\n",
            "284:\tlearn: 0.0243599\ttotal: 3.08s\tremaining: 7.71s\n",
            "285:\tlearn: 0.0243567\ttotal: 3.09s\tremaining: 7.71s\n",
            "286:\tlearn: 0.0243506\ttotal: 3.1s\tremaining: 7.7s\n",
            "287:\tlearn: 0.0243473\ttotal: 3.11s\tremaining: 7.68s\n",
            "288:\tlearn: 0.0243273\ttotal: 3.12s\tremaining: 7.67s\n",
            "289:\tlearn: 0.0243229\ttotal: 3.13s\tremaining: 7.65s\n",
            "290:\tlearn: 0.0243160\ttotal: 3.13s\tremaining: 7.64s\n",
            "291:\tlearn: 0.0243016\ttotal: 3.15s\tremaining: 7.63s\n",
            "292:\tlearn: 0.0242995\ttotal: 3.15s\tremaining: 7.61s\n",
            "293:\tlearn: 0.0242953\ttotal: 3.18s\tremaining: 7.63s\n",
            "294:\tlearn: 0.0242926\ttotal: 3.19s\tremaining: 7.62s\n",
            "295:\tlearn: 0.0242758\ttotal: 3.19s\tremaining: 7.6s\n",
            "296:\tlearn: 0.0242728\ttotal: 3.21s\tremaining: 7.59s\n",
            "297:\tlearn: 0.0242683\ttotal: 3.22s\tremaining: 7.58s\n",
            "298:\tlearn: 0.0242604\ttotal: 3.23s\tremaining: 7.57s\n",
            "299:\tlearn: 0.0242555\ttotal: 3.24s\tremaining: 7.56s\n",
            "300:\tlearn: 0.0242516\ttotal: 3.25s\tremaining: 7.54s\n",
            "301:\tlearn: 0.0242480\ttotal: 3.26s\tremaining: 7.53s\n",
            "302:\tlearn: 0.0242421\ttotal: 3.27s\tremaining: 7.52s\n",
            "303:\tlearn: 0.0242360\ttotal: 3.28s\tremaining: 7.5s\n",
            "304:\tlearn: 0.0242201\ttotal: 3.3s\tremaining: 7.51s\n",
            "305:\tlearn: 0.0242185\ttotal: 3.31s\tremaining: 7.5s\n",
            "306:\tlearn: 0.0242125\ttotal: 3.31s\tremaining: 7.48s\n",
            "307:\tlearn: 0.0242107\ttotal: 3.33s\tremaining: 7.47s\n",
            "308:\tlearn: 0.0242087\ttotal: 3.33s\tremaining: 7.46s\n",
            "309:\tlearn: 0.0242063\ttotal: 3.35s\tremaining: 7.45s\n",
            "310:\tlearn: 0.0242030\ttotal: 3.35s\tremaining: 7.43s\n",
            "311:\tlearn: 0.0241986\ttotal: 3.36s\tremaining: 7.42s\n",
            "312:\tlearn: 0.0241943\ttotal: 3.37s\tremaining: 7.4s\n",
            "313:\tlearn: 0.0241774\ttotal: 3.38s\tremaining: 7.39s\n",
            "314:\tlearn: 0.0241699\ttotal: 3.39s\tremaining: 7.38s\n",
            "315:\tlearn: 0.0241649\ttotal: 3.4s\tremaining: 7.36s\n",
            "316:\tlearn: 0.0241615\ttotal: 3.41s\tremaining: 7.35s\n",
            "317:\tlearn: 0.0241423\ttotal: 3.43s\tremaining: 7.35s\n",
            "318:\tlearn: 0.0241265\ttotal: 3.44s\tremaining: 7.34s\n",
            "319:\tlearn: 0.0241237\ttotal: 3.45s\tremaining: 7.33s\n",
            "320:\tlearn: 0.0241205\ttotal: 3.46s\tremaining: 7.31s\n",
            "321:\tlearn: 0.0241175\ttotal: 3.47s\tremaining: 7.3s\n",
            "322:\tlearn: 0.0241160\ttotal: 3.48s\tremaining: 7.29s\n",
            "323:\tlearn: 0.0241130\ttotal: 3.49s\tremaining: 7.28s\n",
            "324:\tlearn: 0.0241115\ttotal: 3.5s\tremaining: 7.27s\n",
            "325:\tlearn: 0.0241085\ttotal: 3.51s\tremaining: 7.26s\n",
            "326:\tlearn: 0.0241042\ttotal: 3.52s\tremaining: 7.25s\n",
            "327:\tlearn: 0.0241021\ttotal: 3.53s\tremaining: 7.24s\n",
            "328:\tlearn: 0.0240871\ttotal: 3.54s\tremaining: 7.22s\n",
            "329:\tlearn: 0.0240845\ttotal: 3.55s\tremaining: 7.21s\n",
            "330:\tlearn: 0.0240708\ttotal: 3.56s\tremaining: 7.2s\n",
            "331:\tlearn: 0.0240556\ttotal: 3.57s\tremaining: 7.18s\n",
            "332:\tlearn: 0.0240520\ttotal: 3.58s\tremaining: 7.17s\n",
            "333:\tlearn: 0.0240376\ttotal: 3.59s\tremaining: 7.16s\n",
            "334:\tlearn: 0.0240317\ttotal: 3.6s\tremaining: 7.15s\n",
            "335:\tlearn: 0.0240299\ttotal: 3.61s\tremaining: 7.14s\n",
            "336:\tlearn: 0.0240262\ttotal: 3.62s\tremaining: 7.12s\n",
            "337:\tlearn: 0.0240145\ttotal: 3.64s\tremaining: 7.12s\n",
            "338:\tlearn: 0.0240117\ttotal: 3.65s\tremaining: 7.11s\n",
            "339:\tlearn: 0.0240066\ttotal: 3.66s\tremaining: 7.1s\n",
            "340:\tlearn: 0.0240041\ttotal: 3.67s\tremaining: 7.09s\n",
            "341:\tlearn: 0.0240017\ttotal: 3.68s\tremaining: 7.07s\n",
            "342:\tlearn: 0.0240005\ttotal: 3.69s\tremaining: 7.06s\n",
            "343:\tlearn: 0.0239887\ttotal: 3.7s\tremaining: 7.05s\n",
            "344:\tlearn: 0.0239868\ttotal: 3.71s\tremaining: 7.05s\n",
            "345:\tlearn: 0.0239858\ttotal: 3.72s\tremaining: 7.04s\n",
            "346:\tlearn: 0.0239808\ttotal: 3.73s\tremaining: 7.02s\n",
            "347:\tlearn: 0.0239787\ttotal: 3.74s\tremaining: 7.01s\n",
            "348:\tlearn: 0.0239680\ttotal: 3.75s\tremaining: 7s\n",
            "349:\tlearn: 0.0239661\ttotal: 3.76s\tremaining: 6.98s\n",
            "350:\tlearn: 0.0239629\ttotal: 3.77s\tremaining: 6.97s\n",
            "351:\tlearn: 0.0239607\ttotal: 3.78s\tremaining: 6.96s\n",
            "352:\tlearn: 0.0239574\ttotal: 3.79s\tremaining: 6.95s\n",
            "353:\tlearn: 0.0239548\ttotal: 3.8s\tremaining: 6.94s\n",
            "354:\tlearn: 0.0239487\ttotal: 3.81s\tremaining: 6.93s\n",
            "355:\tlearn: 0.0239369\ttotal: 3.82s\tremaining: 6.92s\n",
            "356:\tlearn: 0.0239359\ttotal: 3.83s\tremaining: 6.91s\n",
            "357:\tlearn: 0.0239277\ttotal: 3.85s\tremaining: 6.9s\n",
            "358:\tlearn: 0.0239218\ttotal: 3.86s\tremaining: 6.89s\n",
            "359:\tlearn: 0.0239111\ttotal: 3.87s\tremaining: 6.88s\n",
            "360:\tlearn: 0.0239079\ttotal: 3.88s\tremaining: 6.87s\n",
            "361:\tlearn: 0.0239059\ttotal: 3.89s\tremaining: 6.85s\n",
            "362:\tlearn: 0.0238926\ttotal: 3.9s\tremaining: 6.84s\n",
            "363:\tlearn: 0.0238897\ttotal: 3.91s\tremaining: 6.83s\n",
            "364:\tlearn: 0.0238855\ttotal: 3.92s\tremaining: 6.83s\n",
            "365:\tlearn: 0.0238833\ttotal: 3.93s\tremaining: 6.81s\n",
            "366:\tlearn: 0.0238792\ttotal: 3.94s\tremaining: 6.8s\n",
            "367:\tlearn: 0.0238764\ttotal: 3.95s\tremaining: 6.79s\n",
            "368:\tlearn: 0.0238695\ttotal: 3.96s\tremaining: 6.78s\n",
            "369:\tlearn: 0.0238641\ttotal: 3.97s\tremaining: 6.76s\n",
            "370:\tlearn: 0.0238613\ttotal: 3.98s\tremaining: 6.75s\n",
            "371:\tlearn: 0.0238598\ttotal: 3.99s\tremaining: 6.74s\n",
            "372:\tlearn: 0.0238571\ttotal: 4s\tremaining: 6.73s\n",
            "373:\tlearn: 0.0238543\ttotal: 4.01s\tremaining: 6.72s\n",
            "374:\tlearn: 0.0238533\ttotal: 4.02s\tremaining: 6.71s\n",
            "375:\tlearn: 0.0238487\ttotal: 4.03s\tremaining: 6.69s\n",
            "376:\tlearn: 0.0238460\ttotal: 4.05s\tremaining: 6.69s\n",
            "377:\tlearn: 0.0238424\ttotal: 4.06s\tremaining: 6.68s\n",
            "378:\tlearn: 0.0238410\ttotal: 4.07s\tremaining: 6.67s\n",
            "379:\tlearn: 0.0238398\ttotal: 4.08s\tremaining: 6.66s\n",
            "380:\tlearn: 0.0238374\ttotal: 4.09s\tremaining: 6.65s\n",
            "381:\tlearn: 0.0238358\ttotal: 4.1s\tremaining: 6.64s\n",
            "382:\tlearn: 0.0238324\ttotal: 4.11s\tremaining: 6.63s\n",
            "383:\tlearn: 0.0238316\ttotal: 4.13s\tremaining: 6.62s\n",
            "384:\tlearn: 0.0238305\ttotal: 4.14s\tremaining: 6.61s\n",
            "385:\tlearn: 0.0238206\ttotal: 4.15s\tremaining: 6.6s\n",
            "386:\tlearn: 0.0238183\ttotal: 4.16s\tremaining: 6.59s\n",
            "387:\tlearn: 0.0238159\ttotal: 4.17s\tremaining: 6.58s\n",
            "388:\tlearn: 0.0238036\ttotal: 4.18s\tremaining: 6.57s\n",
            "389:\tlearn: 0.0237921\ttotal: 4.19s\tremaining: 6.55s\n",
            "390:\tlearn: 0.0237905\ttotal: 4.2s\tremaining: 6.54s\n",
            "391:\tlearn: 0.0237880\ttotal: 4.21s\tremaining: 6.53s\n",
            "392:\tlearn: 0.0237859\ttotal: 4.22s\tremaining: 6.52s\n",
            "393:\tlearn: 0.0237844\ttotal: 4.23s\tremaining: 6.51s\n",
            "394:\tlearn: 0.0237837\ttotal: 4.24s\tremaining: 6.5s\n",
            "395:\tlearn: 0.0237756\ttotal: 4.25s\tremaining: 6.49s\n",
            "396:\tlearn: 0.0237720\ttotal: 4.27s\tremaining: 6.48s\n",
            "397:\tlearn: 0.0237699\ttotal: 4.28s\tremaining: 6.47s\n",
            "398:\tlearn: 0.0237614\ttotal: 4.29s\tremaining: 6.45s\n",
            "399:\tlearn: 0.0237592\ttotal: 4.29s\tremaining: 6.44s\n",
            "400:\tlearn: 0.0237499\ttotal: 4.3s\tremaining: 6.43s\n",
            "401:\tlearn: 0.0237476\ttotal: 4.31s\tremaining: 6.42s\n",
            "402:\tlearn: 0.0237440\ttotal: 4.33s\tremaining: 6.41s\n",
            "403:\tlearn: 0.0237371\ttotal: 4.34s\tremaining: 6.4s\n",
            "404:\tlearn: 0.0237355\ttotal: 4.35s\tremaining: 6.39s\n",
            "405:\tlearn: 0.0237324\ttotal: 4.36s\tremaining: 6.38s\n",
            "406:\tlearn: 0.0237312\ttotal: 4.37s\tremaining: 6.37s\n",
            "407:\tlearn: 0.0237304\ttotal: 4.38s\tremaining: 6.36s\n",
            "408:\tlearn: 0.0237241\ttotal: 4.39s\tremaining: 6.35s\n",
            "409:\tlearn: 0.0237210\ttotal: 4.4s\tremaining: 6.34s\n",
            "410:\tlearn: 0.0237194\ttotal: 4.41s\tremaining: 6.33s\n",
            "411:\tlearn: 0.0237139\ttotal: 4.42s\tremaining: 6.31s\n",
            "412:\tlearn: 0.0237118\ttotal: 4.43s\tremaining: 6.3s\n",
            "413:\tlearn: 0.0237108\ttotal: 4.45s\tremaining: 6.29s\n",
            "414:\tlearn: 0.0237089\ttotal: 4.46s\tremaining: 6.29s\n",
            "415:\tlearn: 0.0237081\ttotal: 4.47s\tremaining: 6.28s\n",
            "416:\tlearn: 0.0236988\ttotal: 4.48s\tremaining: 6.27s\n",
            "417:\tlearn: 0.0236953\ttotal: 4.49s\tremaining: 6.25s\n",
            "418:\tlearn: 0.0236871\ttotal: 4.5s\tremaining: 6.24s\n",
            "419:\tlearn: 0.0236776\ttotal: 4.51s\tremaining: 6.23s\n",
            "420:\tlearn: 0.0236698\ttotal: 4.52s\tremaining: 6.22s\n",
            "421:\tlearn: 0.0236616\ttotal: 4.54s\tremaining: 6.22s\n",
            "422:\tlearn: 0.0236594\ttotal: 4.55s\tremaining: 6.21s\n",
            "423:\tlearn: 0.0236561\ttotal: 4.56s\tremaining: 6.2s\n",
            "424:\tlearn: 0.0236541\ttotal: 4.57s\tremaining: 6.18s\n",
            "425:\tlearn: 0.0236466\ttotal: 4.58s\tremaining: 6.17s\n",
            "426:\tlearn: 0.0236391\ttotal: 4.59s\tremaining: 6.16s\n",
            "427:\tlearn: 0.0236295\ttotal: 4.6s\tremaining: 6.15s\n",
            "428:\tlearn: 0.0236267\ttotal: 4.61s\tremaining: 6.14s\n",
            "429:\tlearn: 0.0236177\ttotal: 4.62s\tremaining: 6.13s\n",
            "430:\tlearn: 0.0236156\ttotal: 4.63s\tremaining: 6.12s\n",
            "431:\tlearn: 0.0236134\ttotal: 4.64s\tremaining: 6.1s\n",
            "432:\tlearn: 0.0236069\ttotal: 4.65s\tremaining: 6.09s\n",
            "433:\tlearn: 0.0236031\ttotal: 4.67s\tremaining: 6.09s\n",
            "434:\tlearn: 0.0235995\ttotal: 4.68s\tremaining: 6.08s\n",
            "435:\tlearn: 0.0235985\ttotal: 4.69s\tremaining: 6.07s\n",
            "436:\tlearn: 0.0235948\ttotal: 4.7s\tremaining: 6.05s\n",
            "437:\tlearn: 0.0235860\ttotal: 4.71s\tremaining: 6.04s\n",
            "438:\tlearn: 0.0235829\ttotal: 4.72s\tremaining: 6.03s\n",
            "439:\tlearn: 0.0235804\ttotal: 4.73s\tremaining: 6.02s\n",
            "440:\tlearn: 0.0235750\ttotal: 4.74s\tremaining: 6s\n",
            "441:\tlearn: 0.0235717\ttotal: 4.75s\tremaining: 5.99s\n",
            "442:\tlearn: 0.0235684\ttotal: 4.76s\tremaining: 5.98s\n",
            "443:\tlearn: 0.0235654\ttotal: 4.77s\tremaining: 5.97s\n",
            "444:\tlearn: 0.0235576\ttotal: 4.78s\tremaining: 5.96s\n",
            "445:\tlearn: 0.0235551\ttotal: 4.79s\tremaining: 5.95s\n",
            "446:\tlearn: 0.0235523\ttotal: 4.8s\tremaining: 5.93s\n",
            "447:\tlearn: 0.0235500\ttotal: 4.81s\tremaining: 5.92s\n",
            "448:\tlearn: 0.0235474\ttotal: 4.82s\tremaining: 5.91s\n",
            "449:\tlearn: 0.0235450\ttotal: 4.82s\tremaining: 5.9s\n",
            "450:\tlearn: 0.0235427\ttotal: 4.83s\tremaining: 5.88s\n",
            "451:\tlearn: 0.0235405\ttotal: 4.84s\tremaining: 5.87s\n",
            "452:\tlearn: 0.0235359\ttotal: 4.85s\tremaining: 5.86s\n",
            "453:\tlearn: 0.0235344\ttotal: 4.87s\tremaining: 5.86s\n",
            "454:\tlearn: 0.0235328\ttotal: 4.88s\tremaining: 5.85s\n",
            "455:\tlearn: 0.0235316\ttotal: 4.9s\tremaining: 5.84s\n",
            "456:\tlearn: 0.0235250\ttotal: 4.91s\tremaining: 5.83s\n",
            "457:\tlearn: 0.0235207\ttotal: 4.92s\tremaining: 5.82s\n",
            "458:\tlearn: 0.0235201\ttotal: 4.93s\tremaining: 5.81s\n",
            "459:\tlearn: 0.0235172\ttotal: 4.94s\tremaining: 5.8s\n",
            "460:\tlearn: 0.0235150\ttotal: 4.95s\tremaining: 5.79s\n",
            "461:\tlearn: 0.0235140\ttotal: 4.96s\tremaining: 5.78s\n",
            "462:\tlearn: 0.0235125\ttotal: 4.97s\tremaining: 5.77s\n",
            "463:\tlearn: 0.0235062\ttotal: 4.98s\tremaining: 5.76s\n",
            "464:\tlearn: 0.0235043\ttotal: 4.99s\tremaining: 5.75s\n",
            "465:\tlearn: 0.0235036\ttotal: 5s\tremaining: 5.73s\n",
            "466:\tlearn: 0.0234977\ttotal: 5.01s\tremaining: 5.72s\n",
            "467:\tlearn: 0.0234965\ttotal: 5.02s\tremaining: 5.71s\n",
            "468:\tlearn: 0.0234940\ttotal: 5.03s\tremaining: 5.7s\n",
            "469:\tlearn: 0.0234855\ttotal: 5.04s\tremaining: 5.68s\n",
            "470:\tlearn: 0.0234840\ttotal: 5.05s\tremaining: 5.67s\n",
            "471:\tlearn: 0.0234780\ttotal: 5.06s\tremaining: 5.66s\n",
            "472:\tlearn: 0.0234765\ttotal: 5.08s\tremaining: 5.66s\n",
            "473:\tlearn: 0.0234744\ttotal: 5.09s\tremaining: 5.64s\n",
            "474:\tlearn: 0.0234726\ttotal: 5.1s\tremaining: 5.63s\n",
            "475:\tlearn: 0.0234717\ttotal: 5.11s\tremaining: 5.62s\n",
            "476:\tlearn: 0.0234664\ttotal: 5.12s\tremaining: 5.61s\n",
            "477:\tlearn: 0.0234651\ttotal: 5.13s\tremaining: 5.6s\n",
            "478:\tlearn: 0.0234638\ttotal: 5.14s\tremaining: 5.59s\n",
            "479:\tlearn: 0.0234622\ttotal: 5.16s\tremaining: 5.59s\n",
            "480:\tlearn: 0.0234605\ttotal: 5.17s\tremaining: 5.58s\n",
            "481:\tlearn: 0.0234585\ttotal: 5.18s\tremaining: 5.56s\n",
            "482:\tlearn: 0.0234567\ttotal: 5.19s\tremaining: 5.55s\n",
            "483:\tlearn: 0.0234494\ttotal: 5.2s\tremaining: 5.54s\n",
            "484:\tlearn: 0.0234482\ttotal: 5.21s\tremaining: 5.53s\n",
            "485:\tlearn: 0.0234465\ttotal: 5.22s\tremaining: 5.52s\n",
            "486:\tlearn: 0.0234443\ttotal: 5.23s\tremaining: 5.51s\n",
            "487:\tlearn: 0.0234427\ttotal: 5.24s\tremaining: 5.5s\n",
            "488:\tlearn: 0.0234403\ttotal: 5.25s\tremaining: 5.49s\n",
            "489:\tlearn: 0.0234320\ttotal: 5.26s\tremaining: 5.47s\n",
            "490:\tlearn: 0.0234291\ttotal: 5.27s\tremaining: 5.46s\n",
            "491:\tlearn: 0.0234218\ttotal: 5.29s\tremaining: 5.46s\n",
            "492:\tlearn: 0.0234200\ttotal: 5.3s\tremaining: 5.45s\n",
            "493:\tlearn: 0.0234151\ttotal: 5.3s\tremaining: 5.43s\n",
            "494:\tlearn: 0.0234145\ttotal: 5.32s\tremaining: 5.42s\n",
            "495:\tlearn: 0.0234082\ttotal: 5.33s\tremaining: 5.41s\n",
            "496:\tlearn: 0.0234022\ttotal: 5.33s\tremaining: 5.4s\n",
            "497:\tlearn: 0.0233983\ttotal: 5.34s\tremaining: 5.39s\n",
            "498:\tlearn: 0.0233917\ttotal: 5.36s\tremaining: 5.38s\n",
            "499:\tlearn: 0.0233911\ttotal: 5.37s\tremaining: 5.37s\n",
            "500:\tlearn: 0.0233891\ttotal: 5.38s\tremaining: 5.36s\n",
            "501:\tlearn: 0.0233863\ttotal: 5.39s\tremaining: 5.35s\n",
            "502:\tlearn: 0.0233850\ttotal: 5.4s\tremaining: 5.34s\n",
            "503:\tlearn: 0.0233844\ttotal: 5.41s\tremaining: 5.33s\n",
            "504:\tlearn: 0.0233822\ttotal: 5.42s\tremaining: 5.32s\n",
            "505:\tlearn: 0.0233807\ttotal: 5.43s\tremaining: 5.3s\n",
            "506:\tlearn: 0.0233783\ttotal: 5.44s\tremaining: 5.29s\n",
            "507:\tlearn: 0.0233765\ttotal: 5.45s\tremaining: 5.28s\n",
            "508:\tlearn: 0.0233735\ttotal: 5.46s\tremaining: 5.27s\n",
            "509:\tlearn: 0.0233727\ttotal: 5.47s\tremaining: 5.26s\n",
            "510:\tlearn: 0.0233712\ttotal: 5.49s\tremaining: 5.25s\n",
            "511:\tlearn: 0.0233695\ttotal: 5.5s\tremaining: 5.24s\n",
            "512:\tlearn: 0.0233679\ttotal: 5.51s\tremaining: 5.23s\n",
            "513:\tlearn: 0.0233668\ttotal: 5.52s\tremaining: 5.22s\n",
            "514:\tlearn: 0.0233634\ttotal: 5.53s\tremaining: 5.21s\n",
            "515:\tlearn: 0.0233606\ttotal: 5.54s\tremaining: 5.2s\n",
            "516:\tlearn: 0.0233579\ttotal: 5.55s\tremaining: 5.19s\n",
            "517:\tlearn: 0.0233565\ttotal: 5.57s\tremaining: 5.18s\n",
            "518:\tlearn: 0.0233549\ttotal: 5.57s\tremaining: 5.17s\n",
            "519:\tlearn: 0.0233535\ttotal: 5.58s\tremaining: 5.15s\n",
            "520:\tlearn: 0.0233509\ttotal: 5.59s\tremaining: 5.14s\n",
            "521:\tlearn: 0.0233468\ttotal: 5.61s\tremaining: 5.13s\n",
            "522:\tlearn: 0.0233452\ttotal: 5.61s\tremaining: 5.12s\n",
            "523:\tlearn: 0.0233385\ttotal: 5.63s\tremaining: 5.11s\n",
            "524:\tlearn: 0.0233370\ttotal: 5.63s\tremaining: 5.1s\n",
            "525:\tlearn: 0.0233363\ttotal: 5.64s\tremaining: 5.09s\n",
            "526:\tlearn: 0.0233346\ttotal: 5.65s\tremaining: 5.08s\n",
            "527:\tlearn: 0.0233332\ttotal: 5.66s\tremaining: 5.06s\n",
            "528:\tlearn: 0.0233323\ttotal: 5.67s\tremaining: 5.05s\n",
            "529:\tlearn: 0.0233301\ttotal: 5.68s\tremaining: 5.04s\n",
            "530:\tlearn: 0.0233234\ttotal: 5.7s\tremaining: 5.03s\n",
            "531:\tlearn: 0.0233218\ttotal: 5.71s\tremaining: 5.02s\n",
            "532:\tlearn: 0.0233166\ttotal: 5.72s\tremaining: 5.01s\n",
            "533:\tlearn: 0.0233113\ttotal: 5.73s\tremaining: 5s\n",
            "534:\tlearn: 0.0233097\ttotal: 5.74s\tremaining: 4.99s\n",
            "535:\tlearn: 0.0233076\ttotal: 5.75s\tremaining: 4.97s\n",
            "536:\tlearn: 0.0233069\ttotal: 5.75s\tremaining: 4.96s\n",
            "537:\tlearn: 0.0233044\ttotal: 5.77s\tremaining: 4.96s\n",
            "538:\tlearn: 0.0233031\ttotal: 5.78s\tremaining: 4.94s\n",
            "539:\tlearn: 0.0233017\ttotal: 5.79s\tremaining: 4.94s\n",
            "540:\tlearn: 0.0233013\ttotal: 5.81s\tremaining: 4.93s\n",
            "541:\tlearn: 0.0233001\ttotal: 5.82s\tremaining: 4.91s\n",
            "542:\tlearn: 0.0232944\ttotal: 5.82s\tremaining: 4.9s\n",
            "543:\tlearn: 0.0232868\ttotal: 5.83s\tremaining: 4.89s\n",
            "544:\tlearn: 0.0232857\ttotal: 5.84s\tremaining: 4.88s\n",
            "545:\tlearn: 0.0232840\ttotal: 5.85s\tremaining: 4.87s\n",
            "546:\tlearn: 0.0232828\ttotal: 5.86s\tremaining: 4.85s\n",
            "547:\tlearn: 0.0232808\ttotal: 5.87s\tremaining: 4.84s\n",
            "548:\tlearn: 0.0232787\ttotal: 5.88s\tremaining: 4.83s\n",
            "549:\tlearn: 0.0232774\ttotal: 5.89s\tremaining: 4.82s\n",
            "550:\tlearn: 0.0232761\ttotal: 5.91s\tremaining: 4.81s\n",
            "551:\tlearn: 0.0232746\ttotal: 5.92s\tremaining: 4.8s\n",
            "552:\tlearn: 0.0232725\ttotal: 5.93s\tremaining: 4.79s\n",
            "553:\tlearn: 0.0232661\ttotal: 5.94s\tremaining: 4.78s\n",
            "554:\tlearn: 0.0232647\ttotal: 5.95s\tremaining: 4.77s\n",
            "555:\tlearn: 0.0232638\ttotal: 5.96s\tremaining: 4.76s\n",
            "556:\tlearn: 0.0232631\ttotal: 5.97s\tremaining: 4.75s\n",
            "557:\tlearn: 0.0232621\ttotal: 5.98s\tremaining: 4.74s\n",
            "558:\tlearn: 0.0232610\ttotal: 5.99s\tremaining: 4.73s\n",
            "559:\tlearn: 0.0232560\ttotal: 6s\tremaining: 4.71s\n",
            "560:\tlearn: 0.0232551\ttotal: 6.01s\tremaining: 4.7s\n",
            "561:\tlearn: 0.0232526\ttotal: 6.02s\tremaining: 4.69s\n",
            "562:\tlearn: 0.0232520\ttotal: 6.03s\tremaining: 4.68s\n",
            "563:\tlearn: 0.0232509\ttotal: 6.04s\tremaining: 4.67s\n",
            "564:\tlearn: 0.0232459\ttotal: 6.05s\tremaining: 4.66s\n",
            "565:\tlearn: 0.0232451\ttotal: 6.06s\tremaining: 4.65s\n",
            "566:\tlearn: 0.0232443\ttotal: 6.07s\tremaining: 4.64s\n",
            "567:\tlearn: 0.0232427\ttotal: 6.08s\tremaining: 4.63s\n",
            "568:\tlearn: 0.0232417\ttotal: 6.09s\tremaining: 4.61s\n",
            "569:\tlearn: 0.0232410\ttotal: 6.1s\tremaining: 4.6s\n",
            "570:\tlearn: 0.0232358\ttotal: 6.11s\tremaining: 4.59s\n",
            "571:\tlearn: 0.0232335\ttotal: 6.13s\tremaining: 4.58s\n",
            "572:\tlearn: 0.0232324\ttotal: 6.14s\tremaining: 4.58s\n",
            "573:\tlearn: 0.0232281\ttotal: 6.15s\tremaining: 4.56s\n",
            "574:\tlearn: 0.0232270\ttotal: 6.16s\tremaining: 4.55s\n",
            "575:\tlearn: 0.0232222\ttotal: 6.17s\tremaining: 4.54s\n",
            "576:\tlearn: 0.0232148\ttotal: 6.18s\tremaining: 4.53s\n",
            "577:\tlearn: 0.0232051\ttotal: 6.19s\tremaining: 4.52s\n",
            "578:\tlearn: 0.0232037\ttotal: 6.2s\tremaining: 4.51s\n",
            "579:\tlearn: 0.0232018\ttotal: 6.21s\tremaining: 4.5s\n",
            "580:\tlearn: 0.0231975\ttotal: 6.22s\tremaining: 4.49s\n",
            "581:\tlearn: 0.0231954\ttotal: 6.23s\tremaining: 4.48s\n",
            "582:\tlearn: 0.0231946\ttotal: 6.25s\tremaining: 4.47s\n",
            "583:\tlearn: 0.0231929\ttotal: 6.26s\tremaining: 4.46s\n",
            "584:\tlearn: 0.0231919\ttotal: 6.27s\tremaining: 4.45s\n",
            "585:\tlearn: 0.0231913\ttotal: 6.28s\tremaining: 4.43s\n",
            "586:\tlearn: 0.0231898\ttotal: 6.29s\tremaining: 4.42s\n",
            "587:\tlearn: 0.0231891\ttotal: 6.3s\tremaining: 4.41s\n",
            "588:\tlearn: 0.0231880\ttotal: 6.32s\tremaining: 4.41s\n",
            "589:\tlearn: 0.0231850\ttotal: 6.33s\tremaining: 4.4s\n",
            "590:\tlearn: 0.0231834\ttotal: 6.34s\tremaining: 4.39s\n",
            "591:\tlearn: 0.0231824\ttotal: 6.35s\tremaining: 4.38s\n",
            "592:\tlearn: 0.0231786\ttotal: 6.36s\tremaining: 4.36s\n",
            "593:\tlearn: 0.0231772\ttotal: 6.37s\tremaining: 4.35s\n",
            "594:\tlearn: 0.0231714\ttotal: 6.39s\tremaining: 4.35s\n",
            "595:\tlearn: 0.0231699\ttotal: 6.4s\tremaining: 4.34s\n",
            "596:\tlearn: 0.0231686\ttotal: 6.41s\tremaining: 4.33s\n",
            "597:\tlearn: 0.0231602\ttotal: 6.42s\tremaining: 4.32s\n",
            "598:\tlearn: 0.0231592\ttotal: 6.43s\tremaining: 4.3s\n",
            "599:\tlearn: 0.0231559\ttotal: 6.44s\tremaining: 4.29s\n",
            "600:\tlearn: 0.0231514\ttotal: 6.45s\tremaining: 4.28s\n",
            "601:\tlearn: 0.0231503\ttotal: 6.46s\tremaining: 4.27s\n",
            "602:\tlearn: 0.0231441\ttotal: 6.47s\tremaining: 4.26s\n",
            "603:\tlearn: 0.0231436\ttotal: 6.48s\tremaining: 4.25s\n",
            "604:\tlearn: 0.0231418\ttotal: 6.49s\tremaining: 4.24s\n",
            "605:\tlearn: 0.0231409\ttotal: 6.5s\tremaining: 4.22s\n",
            "606:\tlearn: 0.0231387\ttotal: 6.51s\tremaining: 4.21s\n",
            "607:\tlearn: 0.0231383\ttotal: 6.52s\tremaining: 4.2s\n",
            "608:\tlearn: 0.0231375\ttotal: 6.53s\tremaining: 4.19s\n",
            "609:\tlearn: 0.0231366\ttotal: 6.54s\tremaining: 4.18s\n",
            "610:\tlearn: 0.0231349\ttotal: 6.55s\tremaining: 4.17s\n",
            "611:\tlearn: 0.0231326\ttotal: 6.56s\tremaining: 4.16s\n",
            "612:\tlearn: 0.0231317\ttotal: 6.57s\tremaining: 4.15s\n",
            "613:\tlearn: 0.0231307\ttotal: 6.58s\tremaining: 4.13s\n",
            "614:\tlearn: 0.0231264\ttotal: 6.6s\tremaining: 4.13s\n",
            "615:\tlearn: 0.0231252\ttotal: 6.61s\tremaining: 4.12s\n",
            "616:\tlearn: 0.0231238\ttotal: 6.62s\tremaining: 4.11s\n",
            "617:\tlearn: 0.0231198\ttotal: 6.63s\tremaining: 4.1s\n",
            "618:\tlearn: 0.0231192\ttotal: 6.64s\tremaining: 4.09s\n",
            "619:\tlearn: 0.0231145\ttotal: 6.66s\tremaining: 4.08s\n",
            "620:\tlearn: 0.0231064\ttotal: 6.67s\tremaining: 4.07s\n",
            "621:\tlearn: 0.0231024\ttotal: 6.67s\tremaining: 4.06s\n",
            "622:\tlearn: 0.0230982\ttotal: 6.68s\tremaining: 4.04s\n",
            "623:\tlearn: 0.0230946\ttotal: 6.7s\tremaining: 4.03s\n",
            "624:\tlearn: 0.0230914\ttotal: 6.7s\tremaining: 4.02s\n",
            "625:\tlearn: 0.0230902\ttotal: 6.71s\tremaining: 4.01s\n",
            "626:\tlearn: 0.0230895\ttotal: 6.72s\tremaining: 4s\n",
            "627:\tlearn: 0.0230887\ttotal: 6.74s\tremaining: 3.99s\n",
            "628:\tlearn: 0.0230821\ttotal: 6.75s\tremaining: 3.98s\n",
            "629:\tlearn: 0.0230811\ttotal: 6.76s\tremaining: 3.97s\n",
            "630:\tlearn: 0.0230804\ttotal: 6.77s\tremaining: 3.96s\n",
            "631:\tlearn: 0.0230785\ttotal: 6.78s\tremaining: 3.95s\n",
            "632:\tlearn: 0.0230773\ttotal: 6.79s\tremaining: 3.94s\n",
            "633:\tlearn: 0.0230763\ttotal: 6.8s\tremaining: 3.92s\n",
            "634:\tlearn: 0.0230750\ttotal: 6.81s\tremaining: 3.92s\n",
            "635:\tlearn: 0.0230706\ttotal: 6.82s\tremaining: 3.9s\n",
            "636:\tlearn: 0.0230702\ttotal: 6.83s\tremaining: 3.89s\n",
            "637:\tlearn: 0.0230694\ttotal: 6.84s\tremaining: 3.88s\n",
            "638:\tlearn: 0.0230687\ttotal: 6.86s\tremaining: 3.87s\n",
            "639:\tlearn: 0.0230658\ttotal: 6.87s\tremaining: 3.86s\n",
            "640:\tlearn: 0.0230653\ttotal: 6.88s\tremaining: 3.85s\n",
            "641:\tlearn: 0.0230644\ttotal: 6.89s\tremaining: 3.84s\n",
            "642:\tlearn: 0.0230634\ttotal: 6.9s\tremaining: 3.83s\n",
            "643:\tlearn: 0.0230630\ttotal: 6.91s\tremaining: 3.82s\n",
            "644:\tlearn: 0.0230588\ttotal: 6.92s\tremaining: 3.81s\n",
            "645:\tlearn: 0.0230565\ttotal: 6.93s\tremaining: 3.8s\n",
            "646:\tlearn: 0.0230525\ttotal: 6.94s\tremaining: 3.79s\n",
            "647:\tlearn: 0.0230469\ttotal: 6.95s\tremaining: 3.77s\n",
            "648:\tlearn: 0.0230439\ttotal: 6.96s\tremaining: 3.76s\n",
            "649:\tlearn: 0.0230432\ttotal: 6.97s\tremaining: 3.75s\n",
            "650:\tlearn: 0.0230425\ttotal: 6.98s\tremaining: 3.74s\n",
            "651:\tlearn: 0.0230377\ttotal: 6.99s\tremaining: 3.73s\n",
            "652:\tlearn: 0.0230365\ttotal: 7s\tremaining: 3.72s\n",
            "653:\tlearn: 0.0230355\ttotal: 7.01s\tremaining: 3.71s\n",
            "654:\tlearn: 0.0230319\ttotal: 7.02s\tremaining: 3.7s\n",
            "655:\tlearn: 0.0230313\ttotal: 7.03s\tremaining: 3.69s\n",
            "656:\tlearn: 0.0230303\ttotal: 7.04s\tremaining: 3.67s\n",
            "657:\tlearn: 0.0230257\ttotal: 7.05s\tremaining: 3.66s\n",
            "658:\tlearn: 0.0230227\ttotal: 7.06s\tremaining: 3.65s\n",
            "659:\tlearn: 0.0230223\ttotal: 7.07s\tremaining: 3.64s\n",
            "660:\tlearn: 0.0230203\ttotal: 7.08s\tremaining: 3.63s\n",
            "661:\tlearn: 0.0230180\ttotal: 7.09s\tremaining: 3.62s\n",
            "662:\tlearn: 0.0230172\ttotal: 7.1s\tremaining: 3.61s\n",
            "663:\tlearn: 0.0230165\ttotal: 7.12s\tremaining: 3.6s\n",
            "664:\tlearn: 0.0230153\ttotal: 7.13s\tremaining: 3.59s\n",
            "665:\tlearn: 0.0230150\ttotal: 7.15s\tremaining: 3.58s\n",
            "666:\tlearn: 0.0230138\ttotal: 7.16s\tremaining: 3.57s\n",
            "667:\tlearn: 0.0230116\ttotal: 7.17s\tremaining: 3.56s\n",
            "668:\tlearn: 0.0230089\ttotal: 7.18s\tremaining: 3.55s\n",
            "669:\tlearn: 0.0230083\ttotal: 7.18s\tremaining: 3.54s\n",
            "670:\tlearn: 0.0230035\ttotal: 7.2s\tremaining: 3.53s\n",
            "671:\tlearn: 0.0230016\ttotal: 7.21s\tremaining: 3.52s\n",
            "672:\tlearn: 0.0229997\ttotal: 7.21s\tremaining: 3.5s\n",
            "673:\tlearn: 0.0229978\ttotal: 7.23s\tremaining: 3.5s\n",
            "674:\tlearn: 0.0229944\ttotal: 7.24s\tremaining: 3.48s\n",
            "675:\tlearn: 0.0229937\ttotal: 7.25s\tremaining: 3.47s\n",
            "676:\tlearn: 0.0229928\ttotal: 7.26s\tremaining: 3.46s\n",
            "677:\tlearn: 0.0229882\ttotal: 7.27s\tremaining: 3.45s\n",
            "678:\tlearn: 0.0229859\ttotal: 7.28s\tremaining: 3.44s\n",
            "679:\tlearn: 0.0229816\ttotal: 7.29s\tremaining: 3.43s\n",
            "680:\tlearn: 0.0229802\ttotal: 7.29s\tremaining: 3.42s\n",
            "681:\tlearn: 0.0229780\ttotal: 7.3s\tremaining: 3.41s\n",
            "682:\tlearn: 0.0229771\ttotal: 7.31s\tremaining: 3.39s\n",
            "683:\tlearn: 0.0229731\ttotal: 7.32s\tremaining: 3.38s\n",
            "684:\tlearn: 0.0229711\ttotal: 7.33s\tremaining: 3.37s\n",
            "685:\tlearn: 0.0229687\ttotal: 7.34s\tremaining: 3.36s\n",
            "686:\tlearn: 0.0229672\ttotal: 7.36s\tremaining: 3.35s\n",
            "687:\tlearn: 0.0229638\ttotal: 7.37s\tremaining: 3.34s\n",
            "688:\tlearn: 0.0229634\ttotal: 7.38s\tremaining: 3.33s\n",
            "689:\tlearn: 0.0229596\ttotal: 7.39s\tremaining: 3.32s\n",
            "690:\tlearn: 0.0229583\ttotal: 7.4s\tremaining: 3.31s\n",
            "691:\tlearn: 0.0229569\ttotal: 7.41s\tremaining: 3.3s\n",
            "692:\tlearn: 0.0229532\ttotal: 7.43s\tremaining: 3.29s\n",
            "693:\tlearn: 0.0229515\ttotal: 7.44s\tremaining: 3.28s\n",
            "694:\tlearn: 0.0229488\ttotal: 7.45s\tremaining: 3.27s\n",
            "695:\tlearn: 0.0229387\ttotal: 7.46s\tremaining: 3.26s\n",
            "696:\tlearn: 0.0229361\ttotal: 7.47s\tremaining: 3.25s\n",
            "697:\tlearn: 0.0229338\ttotal: 7.48s\tremaining: 3.24s\n",
            "698:\tlearn: 0.0229315\ttotal: 7.49s\tremaining: 3.23s\n",
            "699:\tlearn: 0.0229301\ttotal: 7.5s\tremaining: 3.21s\n",
            "700:\tlearn: 0.0229287\ttotal: 7.51s\tremaining: 3.2s\n",
            "701:\tlearn: 0.0229276\ttotal: 7.52s\tremaining: 3.19s\n",
            "702:\tlearn: 0.0229259\ttotal: 7.53s\tremaining: 3.18s\n",
            "703:\tlearn: 0.0229251\ttotal: 7.54s\tremaining: 3.17s\n",
            "704:\tlearn: 0.0229241\ttotal: 7.56s\tremaining: 3.16s\n",
            "705:\tlearn: 0.0229222\ttotal: 7.57s\tremaining: 3.15s\n",
            "706:\tlearn: 0.0229174\ttotal: 7.58s\tremaining: 3.14s\n",
            "707:\tlearn: 0.0229139\ttotal: 7.59s\tremaining: 3.13s\n",
            "708:\tlearn: 0.0229108\ttotal: 7.6s\tremaining: 3.12s\n",
            "709:\tlearn: 0.0229094\ttotal: 7.61s\tremaining: 3.11s\n",
            "710:\tlearn: 0.0229087\ttotal: 7.62s\tremaining: 3.1s\n",
            "711:\tlearn: 0.0229074\ttotal: 7.63s\tremaining: 3.09s\n",
            "712:\tlearn: 0.0229047\ttotal: 7.64s\tremaining: 3.08s\n",
            "713:\tlearn: 0.0228989\ttotal: 7.65s\tremaining: 3.07s\n",
            "714:\tlearn: 0.0228971\ttotal: 7.66s\tremaining: 3.05s\n",
            "715:\tlearn: 0.0228961\ttotal: 7.68s\tremaining: 3.04s\n",
            "716:\tlearn: 0.0228956\ttotal: 7.69s\tremaining: 3.04s\n",
            "717:\tlearn: 0.0228952\ttotal: 7.7s\tremaining: 3.02s\n",
            "718:\tlearn: 0.0228947\ttotal: 7.71s\tremaining: 3.01s\n",
            "719:\tlearn: 0.0228939\ttotal: 7.72s\tremaining: 3s\n",
            "720:\tlearn: 0.0228923\ttotal: 7.73s\tremaining: 2.99s\n",
            "721:\tlearn: 0.0228896\ttotal: 7.74s\tremaining: 2.98s\n",
            "722:\tlearn: 0.0228883\ttotal: 7.75s\tremaining: 2.97s\n",
            "723:\tlearn: 0.0228859\ttotal: 7.76s\tremaining: 2.96s\n",
            "724:\tlearn: 0.0228853\ttotal: 7.77s\tremaining: 2.95s\n",
            "725:\tlearn: 0.0228848\ttotal: 7.79s\tremaining: 2.94s\n",
            "726:\tlearn: 0.0228842\ttotal: 7.8s\tremaining: 2.93s\n",
            "727:\tlearn: 0.0228812\ttotal: 7.81s\tremaining: 2.92s\n",
            "728:\tlearn: 0.0228762\ttotal: 7.82s\tremaining: 2.91s\n",
            "729:\tlearn: 0.0228752\ttotal: 7.83s\tremaining: 2.9s\n",
            "730:\tlearn: 0.0228701\ttotal: 7.84s\tremaining: 2.89s\n",
            "731:\tlearn: 0.0228657\ttotal: 7.86s\tremaining: 2.88s\n",
            "732:\tlearn: 0.0228644\ttotal: 7.87s\tremaining: 2.87s\n",
            "733:\tlearn: 0.0228636\ttotal: 7.88s\tremaining: 2.85s\n",
            "734:\tlearn: 0.0228628\ttotal: 7.89s\tremaining: 2.84s\n",
            "735:\tlearn: 0.0228620\ttotal: 7.9s\tremaining: 2.83s\n",
            "736:\tlearn: 0.0228615\ttotal: 7.91s\tremaining: 2.82s\n",
            "737:\tlearn: 0.0228603\ttotal: 7.92s\tremaining: 2.81s\n",
            "738:\tlearn: 0.0228594\ttotal: 7.93s\tremaining: 2.8s\n",
            "739:\tlearn: 0.0228568\ttotal: 7.94s\tremaining: 2.79s\n",
            "740:\tlearn: 0.0228563\ttotal: 7.95s\tremaining: 2.78s\n",
            "741:\tlearn: 0.0228553\ttotal: 7.96s\tremaining: 2.77s\n",
            "742:\tlearn: 0.0228536\ttotal: 7.98s\tremaining: 2.76s\n",
            "743:\tlearn: 0.0228491\ttotal: 7.99s\tremaining: 2.75s\n",
            "744:\tlearn: 0.0228441\ttotal: 8s\tremaining: 2.74s\n",
            "745:\tlearn: 0.0228433\ttotal: 8.01s\tremaining: 2.73s\n",
            "746:\tlearn: 0.0228428\ttotal: 8.02s\tremaining: 2.71s\n",
            "747:\tlearn: 0.0228418\ttotal: 8.03s\tremaining: 2.7s\n",
            "748:\tlearn: 0.0228407\ttotal: 8.04s\tremaining: 2.69s\n",
            "749:\tlearn: 0.0228397\ttotal: 8.05s\tremaining: 2.68s\n",
            "750:\tlearn: 0.0228372\ttotal: 8.06s\tremaining: 2.67s\n",
            "751:\tlearn: 0.0228283\ttotal: 8.07s\tremaining: 2.66s\n",
            "752:\tlearn: 0.0228270\ttotal: 8.08s\tremaining: 2.65s\n",
            "753:\tlearn: 0.0228219\ttotal: 8.09s\tremaining: 2.64s\n",
            "754:\tlearn: 0.0228210\ttotal: 8.1s\tremaining: 2.63s\n",
            "755:\tlearn: 0.0228191\ttotal: 8.11s\tremaining: 2.62s\n",
            "756:\tlearn: 0.0228184\ttotal: 8.12s\tremaining: 2.61s\n",
            "757:\tlearn: 0.0228174\ttotal: 8.13s\tremaining: 2.6s\n",
            "758:\tlearn: 0.0228156\ttotal: 8.14s\tremaining: 2.58s\n",
            "759:\tlearn: 0.0228148\ttotal: 8.15s\tremaining: 2.57s\n",
            "760:\tlearn: 0.0228126\ttotal: 8.16s\tremaining: 2.56s\n",
            "761:\tlearn: 0.0228110\ttotal: 8.17s\tremaining: 2.55s\n",
            "762:\tlearn: 0.0228099\ttotal: 8.19s\tremaining: 2.54s\n",
            "763:\tlearn: 0.0228089\ttotal: 8.2s\tremaining: 2.53s\n",
            "764:\tlearn: 0.0228042\ttotal: 8.21s\tremaining: 2.52s\n",
            "765:\tlearn: 0.0228034\ttotal: 8.22s\tremaining: 2.51s\n",
            "766:\tlearn: 0.0228006\ttotal: 8.23s\tremaining: 2.5s\n",
            "767:\tlearn: 0.0227983\ttotal: 8.24s\tremaining: 2.49s\n",
            "768:\tlearn: 0.0227959\ttotal: 8.25s\tremaining: 2.48s\n",
            "769:\tlearn: 0.0227954\ttotal: 8.27s\tremaining: 2.47s\n",
            "770:\tlearn: 0.0227944\ttotal: 8.28s\tremaining: 2.46s\n",
            "771:\tlearn: 0.0227939\ttotal: 8.28s\tremaining: 2.45s\n",
            "772:\tlearn: 0.0227933\ttotal: 8.29s\tremaining: 2.44s\n",
            "773:\tlearn: 0.0227893\ttotal: 8.3s\tremaining: 2.42s\n",
            "774:\tlearn: 0.0227890\ttotal: 8.31s\tremaining: 2.41s\n",
            "775:\tlearn: 0.0227866\ttotal: 8.33s\tremaining: 2.4s\n",
            "776:\tlearn: 0.0227837\ttotal: 8.34s\tremaining: 2.39s\n",
            "777:\tlearn: 0.0227824\ttotal: 8.35s\tremaining: 2.38s\n",
            "778:\tlearn: 0.0227782\ttotal: 8.36s\tremaining: 2.37s\n",
            "779:\tlearn: 0.0227743\ttotal: 8.37s\tremaining: 2.36s\n",
            "780:\tlearn: 0.0227703\ttotal: 8.39s\tremaining: 2.35s\n",
            "781:\tlearn: 0.0227679\ttotal: 8.39s\tremaining: 2.34s\n",
            "782:\tlearn: 0.0227662\ttotal: 8.4s\tremaining: 2.33s\n",
            "783:\tlearn: 0.0227646\ttotal: 8.42s\tremaining: 2.32s\n",
            "784:\tlearn: 0.0227635\ttotal: 8.43s\tremaining: 2.31s\n",
            "785:\tlearn: 0.0227594\ttotal: 8.44s\tremaining: 2.3s\n",
            "786:\tlearn: 0.0227567\ttotal: 8.45s\tremaining: 2.29s\n",
            "787:\tlearn: 0.0227532\ttotal: 8.46s\tremaining: 2.28s\n",
            "788:\tlearn: 0.0227524\ttotal: 8.47s\tremaining: 2.27s\n",
            "789:\tlearn: 0.0227521\ttotal: 8.48s\tremaining: 2.25s\n",
            "790:\tlearn: 0.0227516\ttotal: 8.5s\tremaining: 2.25s\n",
            "791:\tlearn: 0.0227510\ttotal: 8.51s\tremaining: 2.23s\n",
            "792:\tlearn: 0.0227504\ttotal: 8.52s\tremaining: 2.22s\n",
            "793:\tlearn: 0.0227482\ttotal: 8.53s\tremaining: 2.21s\n",
            "794:\tlearn: 0.0227469\ttotal: 8.54s\tremaining: 2.2s\n",
            "795:\tlearn: 0.0227450\ttotal: 8.55s\tremaining: 2.19s\n",
            "796:\tlearn: 0.0227418\ttotal: 8.56s\tremaining: 2.18s\n",
            "797:\tlearn: 0.0227413\ttotal: 8.57s\tremaining: 2.17s\n",
            "798:\tlearn: 0.0227405\ttotal: 8.59s\tremaining: 2.16s\n",
            "799:\tlearn: 0.0227370\ttotal: 8.6s\tremaining: 2.15s\n",
            "800:\tlearn: 0.0227365\ttotal: 8.61s\tremaining: 2.14s\n",
            "801:\tlearn: 0.0227350\ttotal: 8.62s\tremaining: 2.13s\n",
            "802:\tlearn: 0.0227345\ttotal: 8.63s\tremaining: 2.12s\n",
            "803:\tlearn: 0.0227324\ttotal: 8.64s\tremaining: 2.11s\n",
            "804:\tlearn: 0.0227320\ttotal: 8.65s\tremaining: 2.1s\n",
            "805:\tlearn: 0.0227306\ttotal: 8.66s\tremaining: 2.08s\n",
            "806:\tlearn: 0.0227302\ttotal: 8.67s\tremaining: 2.07s\n",
            "807:\tlearn: 0.0227295\ttotal: 8.69s\tremaining: 2.06s\n",
            "808:\tlearn: 0.0227246\ttotal: 8.7s\tremaining: 2.05s\n",
            "809:\tlearn: 0.0227215\ttotal: 8.71s\tremaining: 2.04s\n",
            "810:\tlearn: 0.0227182\ttotal: 8.72s\tremaining: 2.03s\n",
            "811:\tlearn: 0.0227151\ttotal: 8.73s\tremaining: 2.02s\n",
            "812:\tlearn: 0.0227127\ttotal: 8.74s\tremaining: 2.01s\n",
            "813:\tlearn: 0.0227093\ttotal: 8.75s\tremaining: 2s\n",
            "814:\tlearn: 0.0227056\ttotal: 8.76s\tremaining: 1.99s\n",
            "815:\tlearn: 0.0227046\ttotal: 8.77s\tremaining: 1.98s\n",
            "816:\tlearn: 0.0227034\ttotal: 8.78s\tremaining: 1.97s\n",
            "817:\tlearn: 0.0227022\ttotal: 8.79s\tremaining: 1.96s\n",
            "818:\tlearn: 0.0227007\ttotal: 8.8s\tremaining: 1.95s\n",
            "819:\tlearn: 0.0226996\ttotal: 8.81s\tremaining: 1.93s\n",
            "820:\tlearn: 0.0226992\ttotal: 8.82s\tremaining: 1.92s\n",
            "821:\tlearn: 0.0226988\ttotal: 8.83s\tremaining: 1.91s\n",
            "822:\tlearn: 0.0226982\ttotal: 8.84s\tremaining: 1.9s\n",
            "823:\tlearn: 0.0226975\ttotal: 8.85s\tremaining: 1.89s\n",
            "824:\tlearn: 0.0226969\ttotal: 8.86s\tremaining: 1.88s\n",
            "825:\tlearn: 0.0226959\ttotal: 8.88s\tremaining: 1.87s\n",
            "826:\tlearn: 0.0226926\ttotal: 8.89s\tremaining: 1.86s\n",
            "827:\tlearn: 0.0226921\ttotal: 8.9s\tremaining: 1.85s\n",
            "828:\tlearn: 0.0226897\ttotal: 8.91s\tremaining: 1.84s\n",
            "829:\tlearn: 0.0226865\ttotal: 8.92s\tremaining: 1.83s\n",
            "830:\tlearn: 0.0226857\ttotal: 8.93s\tremaining: 1.81s\n",
            "831:\tlearn: 0.0226835\ttotal: 8.94s\tremaining: 1.8s\n",
            "832:\tlearn: 0.0226802\ttotal: 8.95s\tremaining: 1.79s\n",
            "833:\tlearn: 0.0226770\ttotal: 8.96s\tremaining: 1.78s\n",
            "834:\tlearn: 0.0226763\ttotal: 8.97s\tremaining: 1.77s\n",
            "835:\tlearn: 0.0226754\ttotal: 8.98s\tremaining: 1.76s\n",
            "836:\tlearn: 0.0226746\ttotal: 8.99s\tremaining: 1.75s\n",
            "837:\tlearn: 0.0226741\ttotal: 9.01s\tremaining: 1.74s\n",
            "838:\tlearn: 0.0226728\ttotal: 9.01s\tremaining: 1.73s\n",
            "839:\tlearn: 0.0226700\ttotal: 9.02s\tremaining: 1.72s\n",
            "840:\tlearn: 0.0226686\ttotal: 9.03s\tremaining: 1.71s\n",
            "841:\tlearn: 0.0226675\ttotal: 9.04s\tremaining: 1.7s\n",
            "842:\tlearn: 0.0226667\ttotal: 9.05s\tremaining: 1.69s\n",
            "843:\tlearn: 0.0226663\ttotal: 9.06s\tremaining: 1.67s\n",
            "844:\tlearn: 0.0226623\ttotal: 9.07s\tremaining: 1.66s\n",
            "845:\tlearn: 0.0226614\ttotal: 9.08s\tremaining: 1.65s\n",
            "846:\tlearn: 0.0226605\ttotal: 9.1s\tremaining: 1.64s\n",
            "847:\tlearn: 0.0226571\ttotal: 9.11s\tremaining: 1.63s\n",
            "848:\tlearn: 0.0226540\ttotal: 9.12s\tremaining: 1.62s\n",
            "849:\tlearn: 0.0226529\ttotal: 9.13s\tremaining: 1.61s\n",
            "850:\tlearn: 0.0226508\ttotal: 9.14s\tremaining: 1.6s\n",
            "851:\tlearn: 0.0226506\ttotal: 9.15s\tremaining: 1.59s\n",
            "852:\tlearn: 0.0226502\ttotal: 9.16s\tremaining: 1.58s\n",
            "853:\tlearn: 0.0226493\ttotal: 9.17s\tremaining: 1.57s\n",
            "854:\tlearn: 0.0226486\ttotal: 9.18s\tremaining: 1.56s\n",
            "855:\tlearn: 0.0226482\ttotal: 9.2s\tremaining: 1.55s\n",
            "856:\tlearn: 0.0226478\ttotal: 9.21s\tremaining: 1.54s\n",
            "857:\tlearn: 0.0226446\ttotal: 9.22s\tremaining: 1.53s\n",
            "858:\tlearn: 0.0226436\ttotal: 9.23s\tremaining: 1.51s\n",
            "859:\tlearn: 0.0226407\ttotal: 9.24s\tremaining: 1.5s\n",
            "860:\tlearn: 0.0226371\ttotal: 9.25s\tremaining: 1.49s\n",
            "861:\tlearn: 0.0226365\ttotal: 9.26s\tremaining: 1.48s\n",
            "862:\tlearn: 0.0226346\ttotal: 9.27s\tremaining: 1.47s\n",
            "863:\tlearn: 0.0226317\ttotal: 9.28s\tremaining: 1.46s\n",
            "864:\tlearn: 0.0226305\ttotal: 9.29s\tremaining: 1.45s\n",
            "865:\tlearn: 0.0226300\ttotal: 9.3s\tremaining: 1.44s\n",
            "866:\tlearn: 0.0226291\ttotal: 9.31s\tremaining: 1.43s\n",
            "867:\tlearn: 0.0226283\ttotal: 9.32s\tremaining: 1.42s\n",
            "868:\tlearn: 0.0226278\ttotal: 9.33s\tremaining: 1.41s\n",
            "869:\tlearn: 0.0226269\ttotal: 9.34s\tremaining: 1.4s\n",
            "870:\tlearn: 0.0226251\ttotal: 9.35s\tremaining: 1.38s\n",
            "871:\tlearn: 0.0226235\ttotal: 9.36s\tremaining: 1.37s\n",
            "872:\tlearn: 0.0226230\ttotal: 9.37s\tremaining: 1.36s\n",
            "873:\tlearn: 0.0226223\ttotal: 9.38s\tremaining: 1.35s\n",
            "874:\tlearn: 0.0226216\ttotal: 9.39s\tremaining: 1.34s\n",
            "875:\tlearn: 0.0226189\ttotal: 9.41s\tremaining: 1.33s\n",
            "876:\tlearn: 0.0226157\ttotal: 9.43s\tremaining: 1.32s\n",
            "877:\tlearn: 0.0226135\ttotal: 9.45s\tremaining: 1.31s\n",
            "878:\tlearn: 0.0226129\ttotal: 9.46s\tremaining: 1.3s\n",
            "879:\tlearn: 0.0226126\ttotal: 9.47s\tremaining: 1.29s\n",
            "880:\tlearn: 0.0226122\ttotal: 9.48s\tremaining: 1.28s\n",
            "881:\tlearn: 0.0226118\ttotal: 9.5s\tremaining: 1.27s\n",
            "882:\tlearn: 0.0226114\ttotal: 9.51s\tremaining: 1.26s\n",
            "883:\tlearn: 0.0226110\ttotal: 9.52s\tremaining: 1.25s\n",
            "884:\tlearn: 0.0226107\ttotal: 9.53s\tremaining: 1.24s\n",
            "885:\tlearn: 0.0226095\ttotal: 9.54s\tremaining: 1.23s\n",
            "886:\tlearn: 0.0226073\ttotal: 9.55s\tremaining: 1.22s\n",
            "887:\tlearn: 0.0226053\ttotal: 9.56s\tremaining: 1.21s\n",
            "888:\tlearn: 0.0226048\ttotal: 9.57s\tremaining: 1.2s\n",
            "889:\tlearn: 0.0226043\ttotal: 9.58s\tremaining: 1.18s\n",
            "890:\tlearn: 0.0226039\ttotal: 9.59s\tremaining: 1.17s\n",
            "891:\tlearn: 0.0226035\ttotal: 9.6s\tremaining: 1.16s\n",
            "892:\tlearn: 0.0226032\ttotal: 9.61s\tremaining: 1.15s\n",
            "893:\tlearn: 0.0226027\ttotal: 9.62s\tremaining: 1.14s\n",
            "894:\tlearn: 0.0225997\ttotal: 9.63s\tremaining: 1.13s\n",
            "895:\tlearn: 0.0225994\ttotal: 9.65s\tremaining: 1.12s\n",
            "896:\tlearn: 0.0225984\ttotal: 9.66s\tremaining: 1.11s\n",
            "897:\tlearn: 0.0225978\ttotal: 9.68s\tremaining: 1.1s\n",
            "898:\tlearn: 0.0225935\ttotal: 9.69s\tremaining: 1.09s\n",
            "899:\tlearn: 0.0225925\ttotal: 9.7s\tremaining: 1.08s\n",
            "900:\tlearn: 0.0225901\ttotal: 9.71s\tremaining: 1.07s\n",
            "901:\tlearn: 0.0225877\ttotal: 9.72s\tremaining: 1.06s\n",
            "902:\tlearn: 0.0225837\ttotal: 9.73s\tremaining: 1.04s\n",
            "903:\tlearn: 0.0225829\ttotal: 9.74s\tremaining: 1.03s\n",
            "904:\tlearn: 0.0225818\ttotal: 9.75s\tremaining: 1.02s\n",
            "905:\tlearn: 0.0225792\ttotal: 9.76s\tremaining: 1.01s\n",
            "906:\tlearn: 0.0225778\ttotal: 9.78s\tremaining: 1s\n",
            "907:\tlearn: 0.0225731\ttotal: 9.79s\tremaining: 991ms\n",
            "908:\tlearn: 0.0225723\ttotal: 9.8s\tremaining: 981ms\n",
            "909:\tlearn: 0.0225670\ttotal: 9.81s\tremaining: 970ms\n",
            "910:\tlearn: 0.0225647\ttotal: 9.82s\tremaining: 960ms\n",
            "911:\tlearn: 0.0225641\ttotal: 9.83s\tremaining: 949ms\n",
            "912:\tlearn: 0.0225638\ttotal: 9.84s\tremaining: 938ms\n",
            "913:\tlearn: 0.0225623\ttotal: 9.85s\tremaining: 927ms\n",
            "914:\tlearn: 0.0225617\ttotal: 9.86s\tremaining: 916ms\n",
            "915:\tlearn: 0.0225609\ttotal: 9.87s\tremaining: 905ms\n",
            "916:\tlearn: 0.0225601\ttotal: 9.88s\tremaining: 894ms\n",
            "917:\tlearn: 0.0225596\ttotal: 9.89s\tremaining: 884ms\n",
            "918:\tlearn: 0.0225590\ttotal: 9.9s\tremaining: 873ms\n",
            "919:\tlearn: 0.0225565\ttotal: 9.91s\tremaining: 862ms\n",
            "920:\tlearn: 0.0225559\ttotal: 9.93s\tremaining: 852ms\n",
            "921:\tlearn: 0.0225531\ttotal: 9.94s\tremaining: 841ms\n",
            "922:\tlearn: 0.0225500\ttotal: 9.95s\tremaining: 830ms\n",
            "923:\tlearn: 0.0225497\ttotal: 9.96s\tremaining: 819ms\n",
            "924:\tlearn: 0.0225492\ttotal: 9.97s\tremaining: 808ms\n",
            "925:\tlearn: 0.0225484\ttotal: 9.98s\tremaining: 797ms\n",
            "926:\tlearn: 0.0225458\ttotal: 9.99s\tremaining: 786ms\n",
            "927:\tlearn: 0.0225436\ttotal: 10s\tremaining: 776ms\n",
            "928:\tlearn: 0.0225434\ttotal: 10s\tremaining: 765ms\n",
            "929:\tlearn: 0.0225426\ttotal: 10s\tremaining: 755ms\n",
            "930:\tlearn: 0.0225423\ttotal: 10s\tremaining: 744ms\n",
            "931:\tlearn: 0.0225418\ttotal: 10s\tremaining: 733ms\n",
            "932:\tlearn: 0.0225394\ttotal: 10.1s\tremaining: 722ms\n",
            "933:\tlearn: 0.0225388\ttotal: 10.1s\tremaining: 711ms\n",
            "934:\tlearn: 0.0225361\ttotal: 10.1s\tremaining: 700ms\n",
            "935:\tlearn: 0.0225357\ttotal: 10.1s\tremaining: 690ms\n",
            "936:\tlearn: 0.0225354\ttotal: 10.1s\tremaining: 679ms\n",
            "937:\tlearn: 0.0225338\ttotal: 10.1s\tremaining: 668ms\n",
            "938:\tlearn: 0.0225330\ttotal: 10.1s\tremaining: 658ms\n",
            "939:\tlearn: 0.0225324\ttotal: 10.1s\tremaining: 647ms\n",
            "940:\tlearn: 0.0225316\ttotal: 10.1s\tremaining: 636ms\n",
            "941:\tlearn: 0.0225313\ttotal: 10.2s\tremaining: 625ms\n",
            "942:\tlearn: 0.0225309\ttotal: 10.2s\tremaining: 615ms\n",
            "943:\tlearn: 0.0225302\ttotal: 10.2s\tremaining: 604ms\n",
            "944:\tlearn: 0.0225298\ttotal: 10.2s\tremaining: 593ms\n",
            "945:\tlearn: 0.0225294\ttotal: 10.2s\tremaining: 582ms\n",
            "946:\tlearn: 0.0225287\ttotal: 10.2s\tremaining: 571ms\n",
            "947:\tlearn: 0.0225281\ttotal: 10.2s\tremaining: 561ms\n",
            "948:\tlearn: 0.0225277\ttotal: 10.2s\tremaining: 550ms\n",
            "949:\tlearn: 0.0225272\ttotal: 10.2s\tremaining: 539ms\n",
            "950:\tlearn: 0.0225266\ttotal: 10.3s\tremaining: 528ms\n",
            "951:\tlearn: 0.0225254\ttotal: 10.3s\tremaining: 518ms\n",
            "952:\tlearn: 0.0225251\ttotal: 10.3s\tremaining: 507ms\n",
            "953:\tlearn: 0.0225248\ttotal: 10.3s\tremaining: 496ms\n",
            "954:\tlearn: 0.0225243\ttotal: 10.3s\tremaining: 485ms\n",
            "955:\tlearn: 0.0225233\ttotal: 10.3s\tremaining: 475ms\n",
            "956:\tlearn: 0.0225227\ttotal: 10.3s\tremaining: 464ms\n",
            "957:\tlearn: 0.0225221\ttotal: 10.3s\tremaining: 453ms\n",
            "958:\tlearn: 0.0225212\ttotal: 10.3s\tremaining: 442ms\n",
            "959:\tlearn: 0.0225208\ttotal: 10.4s\tremaining: 431ms\n",
            "960:\tlearn: 0.0225204\ttotal: 10.4s\tremaining: 421ms\n",
            "961:\tlearn: 0.0225198\ttotal: 10.4s\tremaining: 410ms\n",
            "962:\tlearn: 0.0225176\ttotal: 10.4s\tremaining: 399ms\n",
            "963:\tlearn: 0.0225163\ttotal: 10.4s\tremaining: 388ms\n",
            "964:\tlearn: 0.0225156\ttotal: 10.4s\tremaining: 377ms\n",
            "965:\tlearn: 0.0225153\ttotal: 10.4s\tremaining: 366ms\n",
            "966:\tlearn: 0.0225149\ttotal: 10.4s\tremaining: 356ms\n",
            "967:\tlearn: 0.0225146\ttotal: 10.4s\tremaining: 345ms\n",
            "968:\tlearn: 0.0225142\ttotal: 10.4s\tremaining: 334ms\n",
            "969:\tlearn: 0.0225140\ttotal: 10.5s\tremaining: 323ms\n",
            "970:\tlearn: 0.0225137\ttotal: 10.5s\tremaining: 313ms\n",
            "971:\tlearn: 0.0225135\ttotal: 10.5s\tremaining: 302ms\n",
            "972:\tlearn: 0.0225132\ttotal: 10.5s\tremaining: 291ms\n",
            "973:\tlearn: 0.0225125\ttotal: 10.5s\tremaining: 280ms\n",
            "974:\tlearn: 0.0225120\ttotal: 10.5s\tremaining: 269ms\n",
            "975:\tlearn: 0.0225119\ttotal: 10.5s\tremaining: 259ms\n",
            "976:\tlearn: 0.0225115\ttotal: 10.5s\tremaining: 248ms\n",
            "977:\tlearn: 0.0225113\ttotal: 10.5s\tremaining: 237ms\n",
            "978:\tlearn: 0.0225109\ttotal: 10.6s\tremaining: 226ms\n",
            "979:\tlearn: 0.0225104\ttotal: 10.6s\tremaining: 216ms\n",
            "980:\tlearn: 0.0225100\ttotal: 10.6s\tremaining: 205ms\n",
            "981:\tlearn: 0.0225076\ttotal: 10.6s\tremaining: 194ms\n",
            "982:\tlearn: 0.0225043\ttotal: 10.6s\tremaining: 183ms\n",
            "983:\tlearn: 0.0224999\ttotal: 10.6s\tremaining: 172ms\n",
            "984:\tlearn: 0.0224993\ttotal: 10.6s\tremaining: 162ms\n",
            "985:\tlearn: 0.0224963\ttotal: 10.6s\tremaining: 151ms\n",
            "986:\tlearn: 0.0224949\ttotal: 10.6s\tremaining: 140ms\n",
            "987:\tlearn: 0.0224908\ttotal: 10.6s\tremaining: 129ms\n",
            "988:\tlearn: 0.0224869\ttotal: 10.7s\tremaining: 119ms\n",
            "989:\tlearn: 0.0224862\ttotal: 10.7s\tremaining: 108ms\n",
            "990:\tlearn: 0.0224842\ttotal: 10.7s\tremaining: 97ms\n",
            "991:\tlearn: 0.0224834\ttotal: 10.7s\tremaining: 86.2ms\n",
            "992:\tlearn: 0.0224814\ttotal: 10.7s\tremaining: 75.4ms\n",
            "993:\tlearn: 0.0224795\ttotal: 10.7s\tremaining: 64.6ms\n",
            "994:\tlearn: 0.0224780\ttotal: 10.7s\tremaining: 53.8ms\n",
            "995:\tlearn: 0.0224751\ttotal: 10.7s\tremaining: 43.1ms\n",
            "996:\tlearn: 0.0224749\ttotal: 10.7s\tremaining: 32.3ms\n",
            "997:\tlearn: 0.0224715\ttotal: 10.7s\tremaining: 21.5ms\n",
            "998:\tlearn: 0.0224675\ttotal: 10.8s\tremaining: 10.8ms\n",
            "999:\tlearn: 0.0224670\ttotal: 10.8s\tremaining: 0us\n",
            "Error: 1.8739732742695858\n",
            "\n",
            "\n",
            "R2 Score: 99.94203529677456\n",
            "\n",
            "\n",
            "Train Score: 99.95294658354997\n",
            "\n",
            "\n",
            "Val Score: 99.94203529677456\n",
            "\n",
            "\n",
            "Is Overfitting: True\n",
            "\n",
            "\n",
            "Overfitting by: 0.0001091128677540576\n"
          ],
          "name": "stdout"
        }
      ]
    },
    {
      "cell_type": "markdown",
      "metadata": {
        "id": "8yeIKMQUF8v5"
      },
      "source": [
        "I will use RandomForestRegressor"
      ]
    },
    {
      "cell_type": "markdown",
      "metadata": {
        "id": "8yQ5U7s9GAKH"
      },
      "source": [
        "**MODEL BUILDING**"
      ]
    },
    {
      "cell_type": "code",
      "metadata": {
        "colab": {
          "base_uri": "https://localhost:8080/"
        },
        "id": "XrkC911sFpz8",
        "outputId": "2ca1b97f-a519-4c6e-cf6e-2ffd9f41c6f2"
      },
      "source": [
        "model = RandomForestRegressor()\r\n",
        "model.fit(x_train, y_train)"
      ],
      "execution_count": 39,
      "outputs": [
        {
          "output_type": "execute_result",
          "data": {
            "text/plain": [
              "RandomForestRegressor(bootstrap=True, ccp_alpha=0.0, criterion='mse',\n",
              "                      max_depth=None, max_features='auto', max_leaf_nodes=None,\n",
              "                      max_samples=None, min_impurity_decrease=0.0,\n",
              "                      min_impurity_split=None, min_samples_leaf=1,\n",
              "                      min_samples_split=2, min_weight_fraction_leaf=0.0,\n",
              "                      n_estimators=100, n_jobs=None, oob_score=False,\n",
              "                      random_state=None, verbose=0, warm_start=False)"
            ]
          },
          "metadata": {
            "tags": []
          },
          "execution_count": 39
        }
      ]
    },
    {
      "cell_type": "markdown",
      "metadata": {
        "id": "ewjgpeGXGFu4"
      },
      "source": [
        "**PREDICTIONS**"
      ]
    },
    {
      "cell_type": "code",
      "metadata": {
        "colab": {
          "base_uri": "https://localhost:8080/"
        },
        "id": "mb7s72dbGEUz",
        "outputId": "bf0e10c6-7619-47bb-f744-678c238865b5"
      },
      "source": [
        "pred = model.predict(x_test)\r\n",
        "pred"
      ],
      "execution_count": 40,
      "outputs": [
        {
          "output_type": "execute_result",
          "data": {
            "text/plain": [
              "array([-0.15939051, -0.11890698, -0.21914055, ..., -0.14908948,\n",
              "       -0.2219343 ,  0.00152132])"
            ]
          },
          "metadata": {
            "tags": []
          },
          "execution_count": 40
        }
      ]
    },
    {
      "cell_type": "markdown",
      "metadata": {
        "id": "9iSGMUTYHiXj"
      },
      "source": [
        "**METRICS**"
      ]
    },
    {
      "cell_type": "markdown",
      "metadata": {
        "id": "SX5smgxFHu_q"
      },
      "source": [
        "R2 Score"
      ]
    },
    {
      "cell_type": "code",
      "metadata": {
        "colab": {
          "base_uri": "https://localhost:8080/"
        },
        "id": "CEQQbtDGHcJB",
        "outputId": "6a137288-3d21-41dd-cf42-59fb5cfb30b8"
      },
      "source": [
        "R2 = r2_score(y_test, pred)\r\n",
        "R2*100"
      ],
      "execution_count": 43,
      "outputs": [
        {
          "output_type": "execute_result",
          "data": {
            "text/plain": [
              "99.19001475924892"
            ]
          },
          "metadata": {
            "tags": []
          },
          "execution_count": 43
        }
      ]
    },
    {
      "cell_type": "markdown",
      "metadata": {
        "id": "JLKicNj3HwO6"
      },
      "source": [
        "Mean Squared Error"
      ]
    },
    {
      "cell_type": "code",
      "metadata": {
        "colab": {
          "base_uri": "https://localhost:8080/"
        },
        "id": "-bDBwRf1Hq9p",
        "outputId": "8c92e612-03c6-4450-db99-13aafff3a761"
      },
      "source": [
        "error = mean_squared_error(y_test, pred)\r\n",
        "error*100"
      ],
      "execution_count": 47,
      "outputs": [
        {
          "output_type": "execute_result",
          "data": {
            "text/plain": [
              "0.8767078205283244"
            ]
          },
          "metadata": {
            "tags": []
          },
          "execution_count": 47
        }
      ]
    },
    {
      "cell_type": "markdown",
      "metadata": {
        "id": "pRm7P1DGIBWx"
      },
      "source": [
        "**PREDICTING WITH RANDOM COLS**"
      ]
    },
    {
      "cell_type": "code",
      "metadata": {
        "colab": {
          "base_uri": "https://localhost:8080/",
          "height": 419
        },
        "id": "gJoTjfE4H2Vj",
        "outputId": "7a91455e-a001-412e-d0e9-d9638448a4f0"
      },
      "source": [
        "data"
      ],
      "execution_count": 49,
      "outputs": [
        {
          "output_type": "execute_result",
          "data": {
            "text/html": [
              "<div>\n",
              "<style scoped>\n",
              "    .dataframe tbody tr th:only-of-type {\n",
              "        vertical-align: middle;\n",
              "    }\n",
              "\n",
              "    .dataframe tbody tr th {\n",
              "        vertical-align: top;\n",
              "    }\n",
              "\n",
              "    .dataframe thead th {\n",
              "        text-align: right;\n",
              "    }\n",
              "</style>\n",
              "<table border=\"1\" class=\"dataframe\">\n",
              "  <thead>\n",
              "    <tr style=\"text-align: right;\">\n",
              "      <th></th>\n",
              "      <th>CompanyName</th>\n",
              "      <th>StockName</th>\n",
              "      <th>High</th>\n",
              "      <th>Low</th>\n",
              "      <th>Open</th>\n",
              "      <th>Close</th>\n",
              "      <th>Volume</th>\n",
              "      <th>Difference</th>\n",
              "    </tr>\n",
              "  </thead>\n",
              "  <tbody>\n",
              "    <tr>\n",
              "      <th>0</th>\n",
              "      <td>33</td>\n",
              "      <td>16</td>\n",
              "      <td>-0.111459</td>\n",
              "      <td>-0.111279</td>\n",
              "      <td>-0.113421</td>\n",
              "      <td>-0.110627</td>\n",
              "      <td>0.149294</td>\n",
              "      <td>-0.048685</td>\n",
              "    </tr>\n",
              "    <tr>\n",
              "      <th>1</th>\n",
              "      <td>33</td>\n",
              "      <td>16</td>\n",
              "      <td>-0.109433</td>\n",
              "      <td>-0.108925</td>\n",
              "      <td>-0.110801</td>\n",
              "      <td>-0.108133</td>\n",
              "      <td>0.259533</td>\n",
              "      <td>-0.070317</td>\n",
              "    </tr>\n",
              "    <tr>\n",
              "      <th>2</th>\n",
              "      <td>33</td>\n",
              "      <td>16</td>\n",
              "      <td>-0.109263</td>\n",
              "      <td>-0.109514</td>\n",
              "      <td>-0.108694</td>\n",
              "      <td>-0.107448</td>\n",
              "      <td>0.450881</td>\n",
              "      <td>-0.018732</td>\n",
              "    </tr>\n",
              "    <tr>\n",
              "      <th>3</th>\n",
              "      <td>33</td>\n",
              "      <td>16</td>\n",
              "      <td>-0.109677</td>\n",
              "      <td>-0.108140</td>\n",
              "      <td>-0.108131</td>\n",
              "      <td>-0.109160</td>\n",
              "      <td>0.397942</td>\n",
              "      <td>-0.140206</td>\n",
              "    </tr>\n",
              "    <tr>\n",
              "      <th>4</th>\n",
              "      <td>33</td>\n",
              "      <td>16</td>\n",
              "      <td>-0.108311</td>\n",
              "      <td>-0.108582</td>\n",
              "      <td>-0.109723</td>\n",
              "      <td>-0.106543</td>\n",
              "      <td>0.656498</td>\n",
              "      <td>-0.017069</td>\n",
              "    </tr>\n",
              "    <tr>\n",
              "      <th>...</th>\n",
              "      <td>...</td>\n",
              "      <td>...</td>\n",
              "      <td>...</td>\n",
              "      <td>...</td>\n",
              "      <td>...</td>\n",
              "      <td>...</td>\n",
              "      <td>...</td>\n",
              "      <td>...</td>\n",
              "    </tr>\n",
              "    <tr>\n",
              "      <th>81730</th>\n",
              "      <td>18</td>\n",
              "      <td>21</td>\n",
              "      <td>0.005860</td>\n",
              "      <td>-0.002370</td>\n",
              "      <td>0.007149</td>\n",
              "      <td>-0.003830</td>\n",
              "      <td>-0.406598</td>\n",
              "      <td>0.560344</td>\n",
              "    </tr>\n",
              "    <tr>\n",
              "      <th>81731</th>\n",
              "      <td>18</td>\n",
              "      <td>21</td>\n",
              "      <td>-0.009320</td>\n",
              "      <td>-0.014730</td>\n",
              "      <td>-0.008869</td>\n",
              "      <td>-0.014004</td>\n",
              "      <td>-0.301793</td>\n",
              "      <td>0.363990</td>\n",
              "    </tr>\n",
              "    <tr>\n",
              "      <th>81732</th>\n",
              "      <td>18</td>\n",
              "      <td>21</td>\n",
              "      <td>-0.004244</td>\n",
              "      <td>-0.010413</td>\n",
              "      <td>-0.011269</td>\n",
              "      <td>-0.005102</td>\n",
              "      <td>-0.378613</td>\n",
              "      <td>0.417239</td>\n",
              "    </tr>\n",
              "    <tr>\n",
              "      <th>81733</th>\n",
              "      <td>18</td>\n",
              "      <td>21</td>\n",
              "      <td>-0.007612</td>\n",
              "      <td>-0.013602</td>\n",
              "      <td>-0.005538</td>\n",
              "      <td>-0.012341</td>\n",
              "      <td>-0.430147</td>\n",
              "      <td>0.403926</td>\n",
              "    </tr>\n",
              "    <tr>\n",
              "      <th>81734</th>\n",
              "      <td>18</td>\n",
              "      <td>21</td>\n",
              "      <td>-0.006831</td>\n",
              "      <td>-0.010463</td>\n",
              "      <td>-0.011954</td>\n",
              "      <td>-0.004809</td>\n",
              "      <td>-0.427485</td>\n",
              "      <td>0.244181</td>\n",
              "    </tr>\n",
              "  </tbody>\n",
              "</table>\n",
              "<p>81735 rows × 8 columns</p>\n",
              "</div>"
            ],
            "text/plain": [
              "       CompanyName  StockName      High  ...     Close    Volume  Difference\n",
              "0               33         16 -0.111459  ... -0.110627  0.149294   -0.048685\n",
              "1               33         16 -0.109433  ... -0.108133  0.259533   -0.070317\n",
              "2               33         16 -0.109263  ... -0.107448  0.450881   -0.018732\n",
              "3               33         16 -0.109677  ... -0.109160  0.397942   -0.140206\n",
              "4               33         16 -0.108311  ... -0.106543  0.656498   -0.017069\n",
              "...            ...        ...       ...  ...       ...       ...         ...\n",
              "81730           18         21  0.005860  ... -0.003830 -0.406598    0.560344\n",
              "81731           18         21 -0.009320  ... -0.014004 -0.301793    0.363990\n",
              "81732           18         21 -0.004244  ... -0.005102 -0.378613    0.417239\n",
              "81733           18         21 -0.007612  ... -0.012341 -0.430147    0.403926\n",
              "81734           18         21 -0.006831  ... -0.004809 -0.427485    0.244181\n",
              "\n",
              "[81735 rows x 8 columns]"
            ]
          },
          "metadata": {
            "tags": []
          },
          "execution_count": 49
        }
      ]
    },
    {
      "cell_type": "code",
      "metadata": {
        "colab": {
          "base_uri": "https://localhost:8080/"
        },
        "id": "JyQwuYvIIM9H",
        "outputId": "3c9d7820-769d-4026-b7d7-da924a806c24"
      },
      "source": [
        "model.predict([[33, 16, -0.111459, -0.111279, -0.113421, 0.149294, -0.048685]]) #1st col of the data"
      ],
      "execution_count": 50,
      "outputs": [
        {
          "output_type": "execute_result",
          "data": {
            "text/plain": [
              "array([-0.1106143])"
            ]
          },
          "metadata": {
            "tags": []
          },
          "execution_count": 50
        }
      ]
    },
    {
      "cell_type": "code",
      "metadata": {
        "colab": {
          "base_uri": "https://localhost:8080/"
        },
        "id": "9cE9IJq9JUYV",
        "outputId": "af9229fe-e7fc-4c8e-eb21-c50f88f244a3"
      },
      "source": [
        "model.predict([[18, 21, -0.009320, -0.014730, -0.008869, -0.301793, 0.363990]]) #81731 col of the data"
      ],
      "execution_count": 56,
      "outputs": [
        {
          "output_type": "execute_result",
          "data": {
            "text/plain": [
              "array([-0.01400886])"
            ]
          },
          "metadata": {
            "tags": []
          },
          "execution_count": 56
        }
      ]
    },
    {
      "cell_type": "code",
      "metadata": {
        "id": "224OZp4NJrg0"
      },
      "source": [
        ""
      ],
      "execution_count": null,
      "outputs": []
    }
  ]
}